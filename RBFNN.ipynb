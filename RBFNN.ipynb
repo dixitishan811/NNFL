{
 "cells": [
  {
   "cell_type": "code",
   "execution_count": 1,
   "metadata": {
    "ExecuteTime": {
     "end_time": "2020-12-03T05:45:43.118029Z",
     "start_time": "2020-12-03T05:45:42.190511Z"
    }
   },
   "outputs": [],
   "source": [
    "import scipy.io\n",
    "import numpy as np\n",
    "import pandas as pd\n",
    "import matplotlib.pyplot as plt\n",
    "import math\n",
    "import random\n",
    "import collections\n",
    "from itertools import product\n",
    "%matplotlib inline"
   ]
  },
  {
   "cell_type": "code",
   "execution_count": 2,
   "metadata": {
    "ExecuteTime": {
     "end_time": "2020-12-03T05:45:43.148950Z",
     "start_time": "2020-12-03T05:45:43.122019Z"
    }
   },
   "outputs": [],
   "source": [
    "def holdout_crossvalid(data, train, val, test, norm=False):\n",
    "\n",
    "    np.random.seed(0)\n",
    "    if isinstance(data, pd.DataFrame):\n",
    "        vec = data.to_numpy()\n",
    "    else:\n",
    "        vec = data\n",
    "    np.random.shuffle(vec)\n",
    "    total = data.shape[0]\n",
    "\n",
    "    train_len = int(train * total)\n",
    "    val_len = int(val * total)\n",
    "    test_len = int(test * total)\n",
    "    train = vec[:train_len, :vec.shape[1] - 1]\n",
    "    val = vec[train_len:train_len + val_len, :vec.shape[1] - 1]\n",
    "    test = vec[train_len + val_len:, :vec.shape[1] - 1]\n",
    "\n",
    "    train_label = vec[:train_len, vec.shape[1] - 1].reshape(-1, 1)\n",
    "    val_label = vec[train_len:train_len + val_len,\n",
    "                    vec.shape[1] - 1].reshape(-1, 1)\n",
    "    test_label = vec[train_len + val_len:, vec.shape[1] - 1].reshape(-1, 1)\n",
    "\n",
    "    if norm:\n",
    "\n",
    "        x = []\n",
    "        mean = []\n",
    "        std = []\n",
    "        for i in range(train.shape[1]):\n",
    "            x.append(\n",
    "                (train[:, i] - np.mean(train[:, i])) / np.std(train[:, i]))\n",
    "            mean.append(np.mean(train[:, i]))\n",
    "            std.append(np.std(train[:, i]))\n",
    "\n",
    "        train = np.array(x).T\n",
    "\n",
    "        x = []\n",
    "        for i in range(test.shape[1]):\n",
    "            x.append((test[:, i] - mean[i]) / std[i])\n",
    "\n",
    "        test = np.array(x).T\n",
    "\n",
    "        x = []\n",
    "        for i in range(val.shape[1]):\n",
    "            x.append((val[:, i] - mean[i]) / std[i])\n",
    "\n",
    "        val = np.array(x).T\n",
    "\n",
    "    return train, train_label, val, val_label, test, test_label"
   ]
  },
  {
   "cell_type": "code",
   "execution_count": 3,
   "metadata": {
    "ExecuteTime": {
     "end_time": "2020-12-03T05:45:43.196850Z",
     "start_time": "2020-12-03T05:45:43.151939Z"
    }
   },
   "outputs": [],
   "source": [
    "mat = scipy.io.loadmat('data5.mat')\n",
    "\n",
    "data = np.array(mat['x'])\n",
    "\n",
    "train, train_label, val, val_label, test, test_label = holdout_crossvalid( data, 0.7, 0.1, 0.2, True)"
   ]
  },
  {
   "cell_type": "code",
   "execution_count": 4,
   "metadata": {
    "ExecuteTime": {
     "end_time": "2020-12-03T05:45:54.623935Z",
     "start_time": "2020-12-03T05:45:43.198818Z"
    }
   },
   "outputs": [
    {
     "data": {
      "text/plain": [
       "91.87935034802784"
      ]
     },
     "execution_count": 4,
     "metadata": {},
     "output_type": "execute_result"
    }
   ],
   "source": [
    "#Kmeans\n",
    "def Kmeans(train, k=30, max_iter=50):\n",
    "    k = k\n",
    "    \n",
    "    def dist(x, y):\n",
    "        return (np.sum((x - y)**2, axis=-1))**0.5\n",
    "    np.random.seed(0)\n",
    "    points = np.random.randint(train.shape[0], size=(k))\n",
    "\n",
    "    centroids = [train[i] for i in points]\n",
    "\n",
    "    centroids = np.array(centroids)\n",
    "\n",
    "    max_iter = max_iter\n",
    "\n",
    "    for i in range(max_iter):\n",
    "        pred = [np.argmin(dist(centroids, x.reshape(1, -1))) for x in train]\n",
    "        cnt = collections.Counter(pred)\n",
    "        temp = np.zeros((centroids.shape))\n",
    "        for i, x in enumerate(pred):\n",
    "            temp[x] += train[i] / cnt[x]\n",
    "        centroids = temp\n",
    "\n",
    "    return centroids, pred,k\n",
    "m=0\n",
    "\n",
    "centroids, _, k= Kmeans(train, k=200)\n",
    "\n",
    "\n",
    "def dist(x, y):\n",
    "    return (np.sum((x - y)**2, axis=-1))**0.5\n",
    "\n",
    "\n",
    "dmax = -1\n",
    "for x in centroids:\n",
    "    temp = np.max(dist(x, centroids))\n",
    "    if temp > dmax:\n",
    "        dmax = temp\n",
    "\n",
    "\n",
    "def mat(train, centroids, dmax, k):\n",
    "    G = []\n",
    "    for x, y in product(train, centroids):\n",
    "        G.append(math.exp(-(k / (dmax)**2) * (dist(x, y))**2))\n",
    "\n",
    "    return G\n",
    "\n",
    "\n",
    "G = np.array(mat(train, centroids, dmax, k)).reshape(train.shape[0], k)\n",
    "\n",
    "W = np.dot(np.linalg.pinv(G), train_label)\n",
    "\n",
    "G_test = np.array(mat(test, centroids, dmax, k)).reshape(test.shape[0], k)\n",
    "\n",
    "prediction = np.dot(G_test, W)\n",
    "\n",
    "prediction = 0.5 * (np.sign(prediction - 0.5) + 1)\n",
    "\n",
    "cnt = 0\n",
    "for i in range(test_label.shape[0]):\n",
    "    if prediction[i] == test_label[i]:\n",
    "        cnt += 1\n",
    "score = cnt * 100 / test_label.shape[0]\n",
    "\n",
    "score\n"
   ]
  },
  {
   "cell_type": "code",
   "execution_count": null,
   "metadata": {},
   "outputs": [],
   "source": []
  }
 ],
 "metadata": {
  "kernelspec": {
   "display_name": "Python 3",
   "language": "python",
   "name": "python3"
  },
  "language_info": {
   "codemirror_mode": {
    "name": "ipython",
    "version": 3
   },
   "file_extension": ".py",
   "mimetype": "text/x-python",
   "name": "python",
   "nbconvert_exporter": "python",
   "pygments_lexer": "ipython3",
   "version": "3.8.3"
  }
 },
 "nbformat": 4,
 "nbformat_minor": 4
}
