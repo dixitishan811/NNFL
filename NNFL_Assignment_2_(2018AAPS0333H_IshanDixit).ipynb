{
  "nbformat": 4,
  "nbformat_minor": 0,
  "metadata": {
    "colab": {
      "name": "NNFL Assignment 2 (2018AAPS0333H_IshanDixit).ipynb",
      "provenance": [],
      "collapsed_sections": [],
      "toc_visible": true
    },
    "kernelspec": {
      "name": "python3",
      "display_name": "Python 3"
    },
    "accelerator": "GPU"
  },
  "cells": [
    {
      "cell_type": "markdown",
      "metadata": {
        "id": "o2CfhEkZ24Wl"
      },
      "source": [
        "# NNFL Assignment 2"
      ]
    },
    {
      "cell_type": "markdown",
      "metadata": {
        "id": "CPmSt2xBYbS2"
      },
      "source": [
        "# Ishan Dixit           -                           2018AAPS0333H"
      ]
    },
    {
      "cell_type": "code",
      "metadata": {
        "id": "T1Pt1xBxJy6G"
      },
      "source": [
        "#Importing libraries\n",
        "\n",
        "import scipy.io\n",
        "import numpy as np\n",
        "import pandas as pd\n",
        "import math\n",
        "import numpy as np\n",
        "from tensorflow import keras\n",
        "from tensorflow.keras import layers\n",
        "from keras.models import Sequential\n",
        "from keras.layers import Dense, Dropout, Flatten, Conv2D, MaxPool2D\n",
        "from tensorflow.keras import regularizers\n",
        "from PIL import Image\n",
        "import glob\n",
        "import numpy as np\n",
        "from sklearn.model_selection import train_test_split,KFold\n",
        "import matplotlib.pyplot as plt\n",
        "from sklearn.metrics import confusion_matrix\n",
        "import seaborn as sns\n",
        "%matplotlib inline\n"
      ],
      "execution_count": null,
      "outputs": []
    },
    {
      "cell_type": "code",
      "metadata": {
        "id": "wfiRQXAkuCJt"
      },
      "source": [
        "#Helper Functions\n",
        "\n",
        "def holdout_crossvalid(data, train, val, test,norm=False):\n",
        "\n",
        "    np.random.seed(0)\n",
        "    if isinstance(data, pd.DataFrame):\n",
        "        vec = data.to_numpy()\n",
        "    else:\n",
        "        vec=data\n",
        "    np.random.shuffle(vec)\n",
        "    total = data.shape[0]\n",
        "\n",
        "    train_len = int(train * total)\n",
        "    val_len = int(val * total)\n",
        "    test_len = int(test * total)\n",
        "    train = vec[:train_len, :vec.shape[1]-1]\n",
        "    val = vec[train_len:train_len + val_len, :vec.shape[1]-1]\n",
        "    test = vec[train_len + val_len:, :vec.shape[1]-1]\n",
        "\n",
        "    train_label = vec[:train_len, vec.shape[1]-1].reshape(-1, 1)\n",
        "    val_label = vec[train_len:train_len + val_len, vec.shape[1]-1].reshape(-1, 1)\n",
        "    test_label = vec[train_len + val_len:, vec.shape[1]-1].reshape(-1, 1)\n",
        "    \n",
        "    if norm:\n",
        "    \n",
        "        x=[]\n",
        "        mean=[]\n",
        "        std=[]\n",
        "        for i in range(train.shape[1]):\n",
        "            x.append((train[:,i]-np.mean(train[:,i]))/np.std(train[:,i]))\n",
        "            mean.append(np.mean(train[:,i]))\n",
        "            std.append(np.std(train[:,i]))\n",
        "\n",
        "\n",
        "        train=np.array(x).T\n",
        "\n",
        "\n",
        "        x=[]\n",
        "        for i in range(test.shape[1]):\n",
        "            x.append((test[:,i]-mean[i])/std[i])\n",
        "\n",
        "        test=np.array(x).T\n",
        "        \n",
        "        x=[]\n",
        "        for i in range(val.shape[1]):\n",
        "            x.append((val[:,i]-mean[i])/std[i])\n",
        "\n",
        "        val=np.array(x).T\n",
        "\n",
        "\n",
        "    return train, train_label, val, val_label, test, test_label\n",
        "\n",
        "def acc(h, test_output):\n",
        "    TN = 0\n",
        "    TP = 0\n",
        "    FN = 0\n",
        "    FP = 0\n",
        "    for i in range(test_output.shape[0]):\n",
        "        if (h[i] == test_output[i]) & (test_output[i] == 0):\n",
        "            TN += 1\n",
        "        elif (h[i] == test_output[i]) & (test_output[i] == 1):\n",
        "            TP += 1\n",
        "        elif (h[i] == 0) & (test_output[i] == 1):\n",
        "            FN += 1\n",
        "        elif (h[i] == 1) & (test_output[i] == 0):\n",
        "            FP += 1\n",
        "    SE = TP / (TP + FN)\n",
        "    SP = TN / (TN + FP)\n",
        "    Acc = (TP + TN) / (TP + FN + TN + FP)\n",
        "    return SE,SP, Acc\n",
        "\n",
        "def sigmoid(x,deriv = False):\n",
        "    if not deriv:\n",
        "        return 1/(1 + np.exp(-x))\n",
        "    else:\n",
        "        return x*(1 - x)     "
      ],
      "execution_count": null,
      "outputs": []
    },
    {
      "cell_type": "markdown",
      "metadata": {
        "id": "20Z6qAPTt5yM"
      },
      "source": [
        "## Q.1 Non-linear perceptron algorithm"
      ]
    },
    {
      "cell_type": "code",
      "metadata": {
        "colab": {
          "base_uri": "https://localhost:8080/",
          "height": 1000
        },
        "id": "9POQQ_w1t483",
        "outputId": "1150f81d-5c8e-4ebd-c1ec-07bb16ea20a8"
      },
      "source": [
        "df=pd.read_excel('/content/drive/MyDrive/Copy of data55.xlsx',header=None)\n",
        "\n",
        "train, train_label, val, val_label, test, test_label = holdout_crossvalid(df, 0.7, 0.1, 0.2,True)\n",
        "\n",
        "def non_linear_perceptron(train, train_label, val=None,val_label=None,test=None,test_label=None,alpha=0.001,iters=1000):\n",
        "\n",
        "    np.random.seed(42)\n",
        "    w = np.random.rand(1, train.shape[1])*0.01\n",
        "    b = 0\n",
        "    alpha = alpha\n",
        "    cost = []\n",
        "    for i in range(iters):\n",
        "        a = np.dot(train, w.T) + b\n",
        "        h = sigmoid(a)\n",
        "        cnt = 0\n",
        "        J = 0.5 * np.sum((h - train_label)**2, axis=0)\n",
        "        w = w - alpha * np.sum(np.dot(((h - train_label) * h * (1 - h)).T, train),axis=0)\n",
        "        b = b - alpha * np.sum(((h - train_label) * h * (1 - h)), axis=0)\n",
        "        cost.append(J)\n",
        "        if i%1==0 and i<=12:\n",
        "            _,_,accuracy=acc(np.round(h),train_label)\n",
        "            print(\"Training split accuracy for iteration\",i,\":\",accuracy*100,\"%\")\n",
        "\n",
        "            if val is not None:\n",
        "                _,_,accuracy=acc(np.round(sigmoid(np.dot(val, w.T) + b)),val_label)\n",
        "                print(\"Validation split accuracy :\",accuracy*100,\"%\")\n",
        "            print(\"\\n\")\n",
        "    if test is not None:\n",
        "        SE,SP,accuracy=acc(np.round(sigmoid(np.dot(test, w.T) + b)),test_label)\n",
        "        print(\"Test split Sensitivity and Specificity : \",SE,SP)\n",
        "        print(\"Test split Accuracy :\",accuracy*100,\"%\")\n",
        "\n",
        "\n",
        "    return cost\n",
        "\n",
        "cost = non_linear_perceptron(train, train_label, val, val_label, test,test_label)\n",
        "\n",
        "fig = plt.figure(figsize=(6, 6))\n",
        "ax = fig.add_subplot(111)\n",
        "ax.set_xlabel('Iterations', fontsize=20)\n",
        "ax.set_ylabel('Cost', fontsize=20)\n",
        "plt.plot(cost)"
      ],
      "execution_count": null,
      "outputs": [
        {
          "output_type": "stream",
          "text": [
            "Training split accuracy for iteration 0 : 80.0 %\n",
            "Validation split accuracy : 100.0 %\n",
            "\n",
            "\n",
            "Training split accuracy for iteration 1 : 95.71428571428572 %\n",
            "Validation split accuracy : 100.0 %\n",
            "\n",
            "\n",
            "Training split accuracy for iteration 2 : 100.0 %\n",
            "Validation split accuracy : 100.0 %\n",
            "\n",
            "\n",
            "Training split accuracy for iteration 3 : 100.0 %\n",
            "Validation split accuracy : 100.0 %\n",
            "\n",
            "\n",
            "Training split accuracy for iteration 4 : 100.0 %\n",
            "Validation split accuracy : 100.0 %\n",
            "\n",
            "\n",
            "Training split accuracy for iteration 5 : 100.0 %\n",
            "Validation split accuracy : 100.0 %\n",
            "\n",
            "\n",
            "Training split accuracy for iteration 6 : 100.0 %\n",
            "Validation split accuracy : 100.0 %\n",
            "\n",
            "\n",
            "Training split accuracy for iteration 7 : 100.0 %\n",
            "Validation split accuracy : 100.0 %\n",
            "\n",
            "\n",
            "Training split accuracy for iteration 8 : 100.0 %\n",
            "Validation split accuracy : 100.0 %\n",
            "\n",
            "\n",
            "Training split accuracy for iteration 9 : 100.0 %\n",
            "Validation split accuracy : 100.0 %\n",
            "\n",
            "\n",
            "Training split accuracy for iteration 10 : 100.0 %\n",
            "Validation split accuracy : 100.0 %\n",
            "\n",
            "\n",
            "Training split accuracy for iteration 11 : 100.0 %\n",
            "Validation split accuracy : 100.0 %\n",
            "\n",
            "\n",
            "Training split accuracy for iteration 12 : 100.0 %\n",
            "Validation split accuracy : 100.0 %\n",
            "\n",
            "\n",
            "Test split Sensitivity and Specificity :  1.0 1.0\n",
            "Test split Accuracy : 100.0 %\n"
          ],
          "name": "stdout"
        },
        {
          "output_type": "execute_result",
          "data": {
            "text/plain": [
              "[<matplotlib.lines.Line2D at 0x7f1e214a2f60>]"
            ]
          },
          "metadata": {
            "tags": []
          },
          "execution_count": 3
        },
        {
          "output_type": "display_data",
          "data": {
            "image/png": "[encoded data removed]",
            "text/plain": [
              "<Figure size 432x432 with 1 Axes>"
            ]
          },
          "metadata": {
            "tags": [],
            "needs_background": "light"
          }
        }
      ]
    },
    {
      "cell_type": "markdown",
      "metadata": {
        "id": "PgRKgf22Tx9E"
      },
      "source": [
        "## Q.2 Kernel Perceptron"
      ]
    },
    {
      "cell_type": "code",
      "metadata": {
        "colab": {
          "base_uri": "https://localhost:8080/"
        },
        "id": "8cOji-JRT4ki",
        "outputId": "3d2ff6b2-74e1-43a9-d428-5c9191600a84"
      },
      "source": [
        "df=pd.read_excel('/content/drive/MyDrive/Copy of data55.xlsx',header=None)\n",
        "\n",
        "train, train_label, val, val_label, test, test_label = holdout_crossvalid(df, 0.7, 0.1, 0.2,True)\n",
        "\n",
        "#Kernel Functions\n",
        "def kernel(u, v, key=\"poly\", n=5, sig=5):\n",
        "    if key == \"poly\":\n",
        "        return np.power((np.dot(u, v) + 1),n)\n",
        "    if key == \"rbf\":\n",
        "        return np.exp(-(0.5 / sig) * (np.linalg.norm((v - u)))**2)\n",
        "\n",
        "def kernel_perceptron(train, train_label, test, test_label,iters=500):\n",
        "    alpha = np.zeros((1, train.shape[0]))\n",
        "    for k in range(iters):\n",
        "        yhat = 0\n",
        "        for j in range(train.shape[0]):\n",
        "            yhat = 0\n",
        "            for i in range(train.shape[0]):\n",
        "                yhat += (alpha[0, i] * train_label[i] *\n",
        "                         kernel(train[i], train[j], \"poly\"))\n",
        "            yhat = np.sign(yhat)\n",
        "            if yhat==-1:\n",
        "                yhat=0\n",
        "            if yhat != train_label[j]:\n",
        "                alpha[0, j] += 1\n",
        "    ls = []\n",
        "    for j in range(train.shape[0]):\n",
        "        yhat = 0\n",
        "        for i in range(train.shape[0]):\n",
        "            yhat += (alpha[0, i] * train_label[i] *\n",
        "                     kernel(train[i], train[j], \"poly\"))\n",
        "        yhat = np.sign(yhat)\n",
        "        if yhat==-1:\n",
        "            yhat=0\n",
        "        ls.append(yhat)        \n",
        "    \n",
        "    SE,SP,accuracy=acc(ls,train_label)\n",
        "    print(\"Training split Sensitivity and Specificity :\",SE,SP)\n",
        "    print(\"Training split Accuracy :\",accuracy*100,\"%\",\"\\n\")\n",
        "    ls = []\n",
        "    for j in range(val.shape[0]):\n",
        "        yhat = 0\n",
        "        for i in range(train.shape[0]):\n",
        "            yhat += (alpha[0, i] * train_label[i] *\n",
        "                     kernel(train[i], val[j], \"poly\"))\n",
        "        yhat = np.sign(yhat)\n",
        "        if yhat==-1:\n",
        "            yhat=0\n",
        "        ls.append(yhat)        \n",
        "    \n",
        "    SE,SP,accuracy=acc(ls,val_label)\n",
        "    print(\"Validation split Sensitivity and Specificity :\",SE,SP)\n",
        "    print(\"Validation split Accuracy :\",accuracy*100,\"%\",\"\\n\")\n",
        "\n",
        "    ls = []\n",
        "    for j in range(test.shape[0]):\n",
        "        yhat = 0\n",
        "        for i in range(train.shape[0]):\n",
        "            yhat += (alpha[0, i] * train_label[i] *\n",
        "                     kernel(train[i], test[j], \"poly\"))\n",
        "        yhat = np.sign(yhat)\n",
        "        if yhat==-1:\n",
        "            yhat=0\n",
        "        ls.append(yhat)\n",
        "    SE,SP,accuracy=acc(ls,test_label)\n",
        "\n",
        "    print(\"Test split Sensitivity and Specificity :\",SE,SP)\n",
        "    print(\"Test split Accuracy :\",accuracy*100,\"%\")\n",
        "\n",
        "    return (alpha)\n",
        "\n",
        "alpha=kernel_perceptron(train,train_label,test,test_label)"
      ],
      "execution_count": null,
      "outputs": [
        {
          "output_type": "stream",
          "text": [
            "Training split Sensitivity and Specificity : 1.0 1.0\n",
            "Training split Accuracy : 100.0 % \n",
            "\n",
            "Validation split Sensitivity and Specificity : 1.0 1.0\n",
            "Validation split Accuracy : 100.0 % \n",
            "\n",
            "Test split Sensitivity and Specificity : 1.0 1.0\n",
            "Test split Accuracy : 100.0 %\n"
          ],
          "name": "stdout"
        }
      ]
    },
    {
      "cell_type": "markdown",
      "metadata": {
        "id": "ffOvO-djv0N-"
      },
      "source": [
        "## Q.3 MLP\n"
      ]
    },
    {
      "cell_type": "code",
      "metadata": {
        "colab": {
          "base_uri": "https://localhost:8080/"
        },
        "id": "3mTLoJtSv0hG",
        "outputId": "0a7efc3e-7af5-4236-9ad1-e8ed1a5f47fd"
      },
      "source": [
        "mat = scipy.io.loadmat('/content/drive/MyDrive/Copy of data5.mat')\n",
        "\n",
        "data = np.array(mat['x'])\n",
        "vec=data\n",
        "x=[]\n",
        "for i in range(vec.shape[1]-1):\n",
        "    x.append((vec[:,i]-np.mean(vec[:,i]))/np.std(vec[:,i]))\n",
        "x.append(vec[:,72])\n",
        "norm_data=np.array(x).T\n",
        "norm_data = np.insert(norm_data,72, 1,axis=1)\n",
        "\n",
        "#Pre-processing for 5-Fold cross validation\n",
        "k=5  # No. of folds\n",
        "sub_len=int(norm_data.shape[0]/5)\n",
        "sub_data=[]\n",
        "start=0\n",
        "for i in range(k):\n",
        "    sub_data.append(norm_data[start:start+sub_len,:74])\n",
        "    start+=sub_len\n",
        "sub_data=np.array(sub_data)\n",
        "\n",
        "\n",
        "\n",
        "\n",
        "train, train_label, val, val_label, test, test_label = holdout_crossvalid(data, 0.7, 0.1, 0.2,True)\n",
        "\n",
        "np.unique(train_label)  #No. of classes"
      ],
      "execution_count": null,
      "outputs": [
        {
          "output_type": "execute_result",
          "data": {
            "text/plain": [
              "array([0., 1.])"
            ]
          },
          "metadata": {
            "tags": []
          },
          "execution_count": 5
        }
      ]
    },
    {
      "cell_type": "code",
      "metadata": {
        "id": "6JI4NxTDyIhZ"
      },
      "source": [
        "#MLP architecture"
      ],
      "execution_count": null,
      "outputs": []
    },
    {
      "cell_type": "code",
      "metadata": {
        "id": "dWlX3aENv0j4"
      },
      "source": [
        "def MLP(train_X, train_Y, test_X, test_Y,val_X=None, val_Y=None,g=None, num_iterations=1000):\n",
        "    alpha = [0.00001, 0.00001, 0.00001]\n",
        "    train_X = train_X.T\n",
        "    test_X=test_X.T\n",
        "    train_Y = train_Y\n",
        "    \n",
        "    train_size = train_X.shape[1]\n",
        "\n",
        "    num_hidden1 = 70\n",
        "    num_hidden2 = 80\n",
        "\n",
        "    W1 = np.random.randn(num_hidden1, train_X.shape[0])\n",
        "    b1 = np.zeros((num_hidden1, 1))\n",
        "\n",
        "    W2 = np.random.randn(num_hidden2, num_hidden1)\n",
        "    b2 = np.zeros((num_hidden2, 1))\n",
        "\n",
        "    W3 = np.random.randn(1, num_hidden2)\n",
        "    b3 = np.zeros((1, 1))\n",
        "\n",
        "    loss = []\n",
        "    for iteration in range(num_iterations):\n",
        "\n",
        "        Z1 = np.dot(W1, train_X) + b1\n",
        "        A1 = sigmoid(Z1)\n",
        "        Z2 = np.dot(W2, A1) + b2\n",
        "        A2 = sigmoid(Z2)\n",
        "        Z3 = np.dot(W3, A2) + b3\n",
        "        Y_tilda = sigmoid(Z3).reshape(-1, 1)\n",
        "        if iteration % 100 == 0:\n",
        "            error = (np.sum(np.power(\n",
        "                (Y_tilda - train_Y), 2))) / (train_size * 6)  \n",
        "            loss.append(error)\n",
        "\n",
        "        delta_3 = (Y_tilda - train_Y).T\n",
        "        delta_2 = W3.T.dot((delta_3)) * sigmoid(A2, deriv=True)\n",
        "        delta_1 = W2.T.dot((delta_2)) * sigmoid(A1, deriv=True)\n",
        "\n",
        "        W3 = W3 - alpha[0] * np.dot(delta_3, A2.T) / 3 * train_size\n",
        "        b3 = b3 - alpha[0] * np.sum(delta_3, axis=1,\n",
        "                                    keepdims=True) / 3 * train_size\n",
        "        W2 = W2 - alpha[1] * np.dot(delta_2, A1.T) / 3 * train_size\n",
        "        b2 = b2 - alpha[1] * np.sum(delta_2, axis=1,\n",
        "                                    keepdims=True) / 3 * train_size\n",
        "        W1 = W1 - alpha[2] * np.dot(delta_1, train_X.T) / 3 * train_size\n",
        "        b1 = b1 - alpha[2] * np.sum(delta_1, axis=1,\n",
        "                                    keepdims=True) / 3 * train_size\n",
        "                                    \n",
        "    if g is not None:\n",
        "      fig = plt.figure(figsize=(6, 6))\n",
        "      ax = fig.add_subplot(111)\n",
        "      ax.set_xlabel('Iterations', fontsize=20)\n",
        "      ax.set_ylabel('Cost', fontsize=20)\n",
        "      plt.plot(loss)\n",
        "    count = 0\n",
        "    temp = np.round(Y_tilda)\n",
        "    for i in range(train_X.shape[1]):\n",
        "\n",
        "        if train_Y[i] == temp[i]:\n",
        "            count += 1\n",
        "    accuracy_train = count * 100 / train_X.shape[1]\n",
        "\n",
        "    Z1 = np.dot(W1, test_X) + b1\n",
        "    A1 = sigmoid(Z1)\n",
        "    Z2 = np.dot(W2, A1) + b2\n",
        "    A2 = sigmoid(Z2)\n",
        "    Z3 = np.dot(W3, A2) + b3\n",
        "\n",
        "    Y_tilda = sigmoid(Z3).reshape(-1, 1)\n",
        "\n",
        "    count = 0\n",
        "    temp = np.round(Y_tilda)\n",
        "    for i in range(test_X.shape[1]):\n",
        "\n",
        "        if test_Y[i] == temp[i]:\n",
        "            count += 1\n",
        "    accuracy_test = count * 100 / test_X.shape[1]\n",
        "    if val_X is not None:\n",
        "      val_X=val_X.T\n",
        "      Z1 = np.dot(W1, val_X) + b1\n",
        "      A1 = sigmoid(Z1)\n",
        "      Z2 = np.dot(W2, A1) + b2\n",
        "      A2 = sigmoid(Z2)\n",
        "      Z3 = np.dot(W3, A2) + b3\n",
        "\n",
        "      Y_tilda = sigmoid(Z3).reshape(-1, 1)\n",
        "\n",
        "      count = 0\n",
        "      temp = np.round(Y_tilda)\n",
        "      for i in range(val_X.shape[1]):\n",
        "\n",
        "          if val_Y[i] == temp[i]:\n",
        "              count += 1\n",
        "      accuracy_val = count * 100 / val_X.shape[1]\n",
        "      return accuracy_train, accuracy_test,accuracy_val\n",
        "\n",
        "\n",
        "    return accuracy_train, accuracy_test"
      ],
      "execution_count": null,
      "outputs": []
    },
    {
      "cell_type": "code",
      "metadata": {
        "id": "UB2jvbDyyjlg"
      },
      "source": [
        "#Hold-out cross-validation"
      ],
      "execution_count": null,
      "outputs": []
    },
    {
      "cell_type": "code",
      "metadata": {
        "colab": {
          "base_uri": "https://localhost:8080/",
          "height": 447
        },
        "id": "dKhXRQEv2GlN",
        "outputId": "04fc3dc0-d872-4de3-baaf-f32940b04460"
      },
      "source": [
        "a,b,c=MLP(train, train_label, test, test_label,val, val_label,num_iterations=1000,g=1)\n",
        "print(\"Training Accuracy\",a,'\\n',\"Test Accuracy\",b,'\\n',\"Validation Accuracy\",c)"
      ],
      "execution_count": null,
      "outputs": [
        {
          "output_type": "stream",
          "text": [
            "Training Accuracy 100.0 \n",
            " Test Accuracy 93.27146171693735 \n",
            " Validation Accuracy 91.58878504672897\n"
          ],
          "name": "stdout"
        },
        {
          "output_type": "display_data",
          "data": {
            "image/png": "[encoded data removed]",
            "text/plain": [
              "<Figure size 432x432 with 1 Axes>"
            ]
          },
          "metadata": {
            "tags": [],
            "needs_background": "light"
          }
        }
      ]
    },
    {
      "cell_type": "code",
      "metadata": {
        "colab": {
          "base_uri": "https://localhost:8080/"
        },
        "id": "Ooe_Gt-wdXmg",
        "outputId": "ab3b3e99-e45f-48a6-b33d-2de703f9d706"
      },
      "source": [
        "#5 Fold Cross Validation\n",
        "\n",
        "accu=0\n",
        "cnt = 1\n",
        "for i in range(k):\n",
        "    \n",
        "    test_X = sub_data[i, :, :73].reshape(-1, 73)\n",
        "    test_Y = sub_data[i, :, 73].reshape(-1, 1)\n",
        "    temp = np.delete(sub_data, i, axis=0)\n",
        "    train_X= temp[:, :, :73].reshape(-1, 73)\n",
        "    train_Y = temp[:, :,73].reshape(-1, 1)\n",
        "    _,Acc=MLP(train_X, train_Y, test_X, test_Y,num_iterations=1000)\n",
        "    print(\"Fold\", cnt, \"\\n\")\n",
        "    print('Accuracy: {:f}'.format(Acc))\n",
        "    print(\"\\n\")\n",
        "    accu+=Acc\n",
        "    cnt += 1\n",
        "print(\"Overall Accuracy :\",accu/5)"
      ],
      "execution_count": null,
      "outputs": [
        {
          "output_type": "stream",
          "text": [
            "Fold 1 \n",
            "\n",
            "Accuracy: 93.473193\n",
            "\n",
            "\n",
            "Fold 2 \n",
            "\n",
            "Accuracy: 88.811189\n",
            "\n",
            "\n",
            "Fold 3 \n",
            "\n",
            "Accuracy: 93.240093\n",
            "\n",
            "\n",
            "Fold 4 \n",
            "\n",
            "Accuracy: 87.412587\n",
            "\n",
            "\n",
            "Fold 5 \n",
            "\n",
            "Accuracy: 92.307692\n",
            "\n",
            "\n",
            "Overall Accuracy : 91.04895104895105\n"
          ],
          "name": "stdout"
        }
      ]
    },
    {
      "cell_type": "markdown",
      "metadata": {
        "id": "8Dwu1Y0dvXpV"
      },
      "source": [
        "## Q.4 RBFNN"
      ]
    },
    {
      "cell_type": "code",
      "metadata": {
        "id": "bF5VFIXRt4_J"
      },
      "source": [
        "mat = scipy.io.loadmat('/content/drive/MyDrive/Copy of data5.mat')\n",
        "\n",
        "data = np.array(mat['x'])\n",
        "\n",
        "#Data prep for kfold\n",
        "\n",
        "vec=data\n",
        "x=[]\n",
        "for i in range(vec.shape[1]-1):\n",
        "    x.append((vec[:,i]-np.mean(vec[:,i]))/np.std(vec[:,i]))\n",
        "x.append(vec[:,72])\n",
        "norm_data=np.array(x).T\n",
        "norm_data = np.insert(norm_data,72, 1,axis=1)\n",
        "\n",
        "k=5  # No. of folds\n",
        "sub_len=int(norm_data.shape[0]/5)\n",
        "sub_data=[]\n",
        "start=0\n",
        "for i in range(k):\n",
        "    sub_data.append(norm_data[start:start+sub_len,:74])\n",
        "    start+=sub_len\n",
        "sub_data=np.array(sub_data)\n",
        "\n",
        "\n",
        "def RBFNN(train,train_label,test,test_label,cm=False):\n",
        "  X_train=train\n",
        "  X_test=test\n",
        "  Y_train=train_label\n",
        "  Y_test=test_label\n",
        "\n",
        "#Kernels\n",
        "  def gaussian(x,sigma):\n",
        "    r=np.linalg.norm(x)\n",
        "    return math.exp(-math.pow(r,2)/math.pow(2*sigma,2))\n",
        "\n",
        "  def multiquadratic(x,mu,b):\n",
        "    return (np.linalg.norm(x-mu)**2+b**2)**0.5\n",
        " \n",
        "\n",
        "  def kMeans(X, K=100, maxIters = 100, plot_progress = None):\n",
        "      np.random.seed(42)\n",
        "      centroids = X[np.random.choice(np.arange(len(X)), K)]\n",
        "      for i in range(maxIters):\n",
        "\n",
        "          C = np.array([np.argmin([np.dot(x_i-y_k, x_i-y_k) for y_k in centroids]) for x_i in X])\n",
        "          if (len(np.unique(C)) < K):\n",
        "              centroids = X[np.random.choice(np.arange(len(X)), K)]\n",
        "          else:\n",
        "              centroids = [X[C == k].mean(axis = 0) for k in range(K)]\n",
        "          if plot_progress != None: plot_progress(X, C, np.array(centroids))\n",
        "      return np.array(centroids) , K\n",
        "\n",
        "  mu1,K_cent= kMeans(X_train)\n",
        "\n",
        "  \n",
        "  max1=0 \n",
        "  for i in range(K_cent):\n",
        "      for j in range(K_cent):\n",
        "          d= np.linalg.norm(mu1[i]-mu1[j])\n",
        "          if(d> max1):\n",
        "              max1= d\n",
        "  d= max1\n",
        "\n",
        "  sigma= d/math.sqrt(2*K_cent)\n",
        "\n",
        "  shape= X_train.shape\n",
        "  row= shape[0]\n",
        "  column= K_cent\n",
        "  G= np.empty((row,column), dtype= float)\n",
        "  for i in range(row):\n",
        "      for j in range(column):\n",
        "          G[i][j]= gaussian(X_train[i]-mu1[j],sigma)\n",
        "\n",
        "  GTG= np.dot(G.T,G)\n",
        "  GTG_inv= np.linalg.inv(GTG)\n",
        "  fac= np.dot(GTG_inv,G.T)\n",
        "  W= np.dot(fac,Y_train)\n",
        "\n",
        "  row= X_test.shape[0]\n",
        "  column= K_cent\n",
        "  G_test= np.empty((row,column), dtype= float)\n",
        "  for i in range(row):\n",
        "      for j in range(column):\n",
        "          G_test[i][j]= gaussian(X_test[i]-mu1[j],sigma)\n",
        "\n",
        "  prediction= np.dot(G_test,W)\n",
        "  prediction= 0.5*(np.sign(prediction-0.5)+1)\n",
        "  cnt=0\n",
        "  for i in range(Y_test.shape[0]):\n",
        "    if prediction[i]==Y_test[i]:\n",
        "      cnt+=1\n",
        "  score=cnt/Y_test.shape[0]\n",
        "  \n",
        "  #Confusion Matrix using pandas\n",
        "  if cm==True:\n",
        "    data = {'y_Actual':    Y_test.ravel().tolist(),\n",
        "            'y_Predicted': prediction.ravel().tolist()\n",
        "            }\n",
        "\n",
        "    df = pd.DataFrame(data, columns=['y_Actual','y_Predicted'])\n",
        "    confusion_matrix = pd.crosstab(df['y_Actual'], df['y_Predicted'], rownames=['Actual'], colnames=['Predicted'])\n",
        "    #print (confusion_matrix,'\\n')\n",
        "    sns.heatmap(confusion_matrix, annot=True,fmt='g')\n",
        "    plt.show()\n",
        "\n",
        "  return score*100"
      ],
      "execution_count": null,
      "outputs": []
    },
    {
      "cell_type": "code",
      "metadata": {
        "id": "LhGASpCBz7U8"
      },
      "source": [
        "#Holdout cross-validation"
      ],
      "execution_count": null,
      "outputs": []
    },
    {
      "cell_type": "code",
      "metadata": {
        "colab": {
          "base_uri": "https://localhost:8080/",
          "height": 430
        },
        "id": "X4L3BXaczxvo",
        "outputId": "635dba86-f99e-4f03-9746-5d4fd9e422ec"
      },
      "source": [
        "train, train_label, val, val_label, test, test_label = holdout_crossvalid(data, 0.7, 0.1, 0.2, True)\n",
        "\n",
        "Acc=RBFNN(train, train_label, train, train_label)\n",
        "print('Accuracy of training set: {:f}'.format(Acc),'\\n')\n",
        "\n",
        "Acc=RBFNN(train, train_label, val, val_label)\n",
        "print('Accuracy of validation set: {:f}'.format(Acc),'\\n')\n",
        "\n",
        "print('Confusion Matrix for Test set','\\n')\n",
        "Acc=RBFNN(train, train_label, test, test_label,cm=True)\n",
        "print('\\n')\n",
        "print('Accuracy of test set: {:f}'.format(Acc))\n",
        "\n"
      ],
      "execution_count": null,
      "outputs": [
        {
          "output_type": "stream",
          "text": [
            "Accuracy of training set: 88.689288 \n",
            "\n",
            "Accuracy of validation set: 87.850467 \n",
            "\n",
            "Confusion Matrix for Test set \n",
            "\n"
          ],
          "name": "stdout"
        },
        {
          "output_type": "display_data",
          "data": {
            "image/png": "[encoded data removed]",
            "text/plain": [
              "<Figure size 432x288 with 2 Axes>"
            ]
          },
          "metadata": {
            "tags": [],
            "needs_background": "light"
          }
        },
        {
          "output_type": "stream",
          "text": [
            "\n",
            "\n",
            "Accuracy of test set: 86.774942\n"
          ],
          "name": "stdout"
        }
      ]
    },
    {
      "cell_type": "code",
      "metadata": {
        "colab": {
          "base_uri": "https://localhost:8080/"
        },
        "id": "edJ_TCQwx6uO",
        "outputId": "42a8a9ea-71df-4d61-9ba7-690309b4b0cc"
      },
      "source": [
        "#5 Fold Cross Validation\n",
        "accu=0\n",
        "cnt = 1\n",
        "for i in range(k):\n",
        "    test_X = sub_data[i, :, :73].reshape(-1, 73)\n",
        "    test_Y = sub_data[i, :, 73].reshape(-1, 1)\n",
        "    temp = np.delete(sub_data, i, axis=0)\n",
        "    train_X= temp[:, :, :73].reshape(-1, 73)\n",
        "    train_Y = temp[:, :,73].reshape(-1, 1)\n",
        "    Acc=RBFNN(train_X, train_Y, test_X, test_Y)\n",
        "    print(\"Fold\", cnt, \"\\n\")\n",
        "    print('Accuracy: {:f}'.format(Acc))\n",
        "    print(\"\\n\")\n",
        "    cnt += 1\n",
        "    accu+=Acc\n",
        "print(\"Overall Accuracy :\",accu/5)"
      ],
      "execution_count": null,
      "outputs": [
        {
          "output_type": "stream",
          "text": [
            "Fold 1 \n",
            "\n",
            "Accuracy: 85.314685\n",
            "\n",
            "\n",
            "Fold 2 \n",
            "\n",
            "Accuracy: 84.149184\n",
            "\n",
            "\n",
            "Fold 3 \n",
            "\n",
            "Accuracy: 90.675991\n",
            "\n",
            "\n",
            "Fold 4 \n",
            "\n",
            "Accuracy: 82.983683\n",
            "\n",
            "\n",
            "Fold 5 \n",
            "\n",
            "Accuracy: 87.645688\n",
            "\n",
            "\n",
            "Overall Accuracy : 86.15384615384616\n"
          ],
          "name": "stdout"
        }
      ]
    },
    {
      "cell_type": "markdown",
      "metadata": {
        "id": "J_uInHOpx64K"
      },
      "source": [
        "## Q.5 Stacked Autoencoder"
      ]
    },
    {
      "cell_type": "code",
      "metadata": {
        "colab": {
          "base_uri": "https://localhost:8080/",
          "height": 514
        },
        "id": "enxdU-5MyGgA",
        "outputId": "cf38189b-a40f-4cc5-8d5d-1df3d8b665a8"
      },
      "source": [
        "import scipy.io\n",
        "mat = scipy.io.loadmat('/content/drive/MyDrive/Copy of data5.mat')\n",
        "\n",
        "data = np.array(mat['x'])\n",
        "\n",
        "train, train_label, val, val_label, test, test_label = holdout_crossvalid(data, 0.7, 0.1, 0.2,True)\n",
        "\n",
        "np.unique(train_label)  #No. of classes\n",
        "\n",
        "def autoencoder(train,num_hidden1):\n",
        "    alpha = [0.00001,0.000001,0.00001]\n",
        "    num_iterations = 500\n",
        "\n",
        "    train_X=train.T\n",
        "    X=train\n",
        "    train_Y=train\n",
        "\n",
        "    num_hidden1 = num_hidden1\n",
        "    train_size=200\n",
        "    losses_data = {}\n",
        "\n",
        "\n",
        "    W1 = np.random.randn(num_hidden1,X.shape[1])\n",
        "    b1 = np.zeros((num_hidden1,1))\n",
        "    W2 = np.random.randn(X.shape[1],num_hidden1)\n",
        "    b2 = np.zeros((1,1))\n",
        "    loss = []\n",
        "    at_iteration = [] \n",
        "    for iteration in range(num_iterations):\n",
        "\n",
        "            Z1 = np.dot(W1,train_X) + b1\n",
        "            A1 = sigmoid(Z1)\n",
        "            Z2 = np.dot(W2,A1) + b2\n",
        "            Y_tilda = sigmoid(Z2).T\n",
        "            if iteration % 100 == 0:\n",
        "                    error = (np.sum(np.power((Y_tilda-train_Y),2)))/(train_size*6) # m*c*2\n",
        "                    loss.append(error)\n",
        "                    at_iteration.append(iteration)\n",
        "\n",
        "            delta_2 = (Y_tilda - train_Y).T\n",
        "            delta_1 = W2.T.dot((delta_2))*sigmoid(A1,deriv=True)\n",
        "\n",
        "            W2 = W2 - alpha[1]*np.dot(delta_2,A1.T)/3*train_size\n",
        "            b2 = b2 - alpha[1]*np.sum(delta_2,axis=1,keepdims=True)/3*train_size\n",
        "            W1 = W1 - alpha[2]*np.dot(delta_1,train_X.T)/3*train_size\n",
        "            b1 = b1 - alpha[2]*np.sum(delta_1,axis=1,keepdims=True)/3*train_size\n",
        "    iterations = np.arange(len(loss))\n",
        "    losses_data[(num_hidden1)] = loss \n",
        "    #plt.plot(iterations,loss)\n",
        "    #plt.show()\n",
        "    \n",
        "    return W1\n",
        "\n",
        "w1=autoencoder(train,64)\n",
        "z1=sigmoid(np.dot(train,w1.T))\n",
        "w2=autoencoder(z1,32)\n",
        "z2=sigmoid(np.dot(z1,w2.T))\n",
        "w3=autoencoder(z2,16)\n",
        "\n",
        "W1=w1\n",
        "W2=w2\n",
        "W3=w3\n",
        "\n",
        "alpha = [0.00001,0.000002,0.00002]\n",
        "num_iterations = 1000\n",
        "\n",
        "train_X=train.T\n",
        "X=train\n",
        "train_Y=train_label\n",
        "\n",
        "accuracy_data = []\n",
        "train_size=train.shape[0]\n",
        "losses_data = {}\n",
        "b1 = 0\n",
        "b2 = 0\n",
        "b3 = 0\n",
        "W4 = np.random.randn(1,W3.shape[0])\n",
        "b4 = np.zeros((1,1))\n",
        "\n",
        "loss = []\n",
        "at_iteration = [] \n",
        "for iteration in range(num_iterations):\n",
        "\n",
        "        Z1 = np.dot(W1,train_X) + b1\n",
        "        A1 = sigmoid(Z1)\n",
        "        Z2 = np.dot(W2,A1) + b2\n",
        "        A2 = sigmoid(Z2)\n",
        "        Z3 = np.dot(W3,A2) + b3\n",
        "        A3=sigmoid(Z3)\n",
        "        Z4= np.dot(W4,A3) + b4\n",
        "        Y_tilda = sigmoid(Z4).reshape(-1,1)\n",
        "        if iteration % 100 == 0:\n",
        "                error = (np.sum(np.power((Y_tilda-train_Y),2)))/(train_size*6) \n",
        "                loss.append(error)\n",
        "                at_iteration.append(iteration)\n",
        "\n",
        "        delta_4 = (Y_tilda - train_Y).T\n",
        "\n",
        "        delta_3 = W4.T.dot((delta_4))*sigmoid(A3,deriv=True)\n",
        "        delta_2 = W3.T.dot((delta_3))*sigmoid(A2,deriv=True)\n",
        "        delta_1 = W2.T.dot((delta_2))*sigmoid(A1,deriv=True)\n",
        "\n",
        "        W4 = W4 - alpha[0]*np.dot(delta_4,A3.T)/3*train_size\n",
        "        b4 = b4 - alpha[0]*np.sum(delta_4,axis=1,keepdims=True)/3*train_size\n",
        "        W3 = W3 - alpha[0]*np.dot(delta_3,A2.T)/3*train_size\n",
        "        b3 = b3 - alpha[0]*np.sum(delta_3,axis=1,keepdims=True)/3*train_size\n",
        "        W2 = W2 - alpha[1]*np.dot(delta_2,A1.T)/3*train_size\n",
        "        b2 = b2 - alpha[1]*np.sum(delta_2,axis=1,keepdims=True)/3*train_size\n",
        "        W1 = W1 - alpha[2]*np.dot(delta_1,train_X.T)/3*train_size\n",
        "        b1 = b1 - alpha[2]*np.sum(delta_1,axis=1,keepdims=True)/3*train_size\n",
        "\n",
        "Z1 = np.dot(W1,train_X) + b1\n",
        "A1 = sigmoid(Z1)\n",
        "Z2 = np.dot(W2,A1) + b2\n",
        "A2 = sigmoid(Z2)\n",
        "Z3 = np.dot(W3,A2) + b3\n",
        "A3=sigmoid(Z3)\n",
        "Z4= np.dot(W4,A3) + b4\n",
        "Y_tilda = sigmoid(Z4).reshape(-1,1)\n",
        "\n",
        "\n",
        "count = 0\n",
        "temp = Y_tilda\n",
        "\n",
        "for i in range(train.shape[0]):\n",
        "        if np.argmax(train_label[i]) == np.argmax(temp[i]):\n",
        "                count += 1\n",
        "\n",
        "accuracy = count*100/train.shape[0]\n",
        "print(\"Accuracy in train set :\",accuracy,\"%\",\"\\n\")\n",
        "\n",
        "Z1 = np.dot(W1,test.T) + b1\n",
        "A1 = sigmoid(Z1)\n",
        "Z2 = np.dot(W2,A1) + b2\n",
        "A2 = sigmoid(Z2)\n",
        "Z3 = np.dot(W3,A2) + b3\n",
        "A3=sigmoid(Z3)\n",
        "Z4= np.dot(W4,A3) + b4\n",
        "Y_tilda = sigmoid(Z4).reshape(-1,1)\n",
        "\n",
        "\n",
        "count = 0\n",
        "\n",
        "temp = Y_tilda\n",
        "for i in range(test.shape[0]):\n",
        "        if np.argmax(test_label[i]) == np.argmax(temp[i]):\n",
        "                count += 1\n",
        "accuracy = count*100/test.shape[0]\n",
        "print(\"Accuracy in test set :\",accuracy,\"%\",\"\\n\")\n",
        "\n",
        "\n",
        "Z1 = np.dot(W1,val.T) + b1\n",
        "A1 = sigmoid(Z1)\n",
        "Z2 = np.dot(W2,A1) + b2\n",
        "A2 = sigmoid(Z2)\n",
        "Z3 = np.dot(W3,A2) + b3\n",
        "A3=sigmoid(Z3)\n",
        "Z4= np.dot(W4,A3) + b4\n",
        "Y_tilda = sigmoid(Z4).reshape(-1,1)\n",
        "\n",
        "\n",
        "count = 0\n",
        "\n",
        "temp = Y_tilda\n",
        "for i in range(val.shape[0]):\n",
        "        if np.argmax(val_label[i]) == np.argmax(temp[i]):\n",
        "                count += 1\n",
        "accuracy = count*100/val.shape[0]\n",
        "print(\"Accuracy in validation set :\",accuracy,\"%\",\"\\n\")\n",
        "\n",
        "fig = plt.figure(figsize=(6, 6))\n",
        "ax = fig.add_subplot(111)\n",
        "ax.set_xlabel('Iterations', fontsize=20)\n",
        "ax.set_ylabel('Cost', fontsize=20)\n",
        "plt.plot(loss)"
      ],
      "execution_count": null,
      "outputs": [
        {
          "output_type": "stream",
          "text": [
            "Accuracy in train set : 100.0 % \n",
            "\n",
            "Accuracy in test set : 100.0 % \n",
            "\n",
            "Accuracy in validation set : 100.0 % \n",
            "\n"
          ],
          "name": "stdout"
        },
        {
          "output_type": "execute_result",
          "data": {
            "text/plain": [
              "[<matplotlib.lines.Line2D at 0x7f1e1d2b97b8>]"
            ]
          },
          "metadata": {
            "tags": []
          },
          "execution_count": 15
        },
        {
          "output_type": "display_data",
          "data": {
            "image/png": "[encoded data removed]",
            "text/plain": [
              "<Figure size 432x432 with 1 Axes>"
            ]
          },
          "metadata": {
            "tags": [],
            "needs_background": "light"
          }
        }
      ]
    },
    {
      "cell_type": "markdown",
      "metadata": {
        "id": "xSWqE3E8zejh"
      },
      "source": [
        "## Q.6 ELM Classifier"
      ]
    },
    {
      "cell_type": "code",
      "metadata": {
        "colab": {
          "base_uri": "https://localhost:8080/"
        },
        "id": "dA-qLoynyGkm",
        "outputId": "cc6781a3-6bde-4ef2-dfdb-64f49eab0e12"
      },
      "source": [
        "import scipy.io\n",
        "mat = scipy.io.loadmat('/content/drive/MyDrive/Copy of data5.mat')\n",
        "\n",
        "vec = np.array(mat['x'])\n",
        "\n",
        "\n",
        "\n",
        "x=[]\n",
        "for i in range(vec.shape[1]-1):\n",
        "    x.append((vec[:,i]-np.mean(vec[:,i]))/np.std(vec[:,i]))\n",
        "x.append(vec[:,72])\n",
        "norm_data=np.array(x).T\n",
        "norm_data = np.insert(norm_data,72, 1,axis=1)\n",
        "\n",
        "k=5  # No. of folds\n",
        "sub_len=int(norm_data.shape[0]/5)\n",
        "sub_data=[]\n",
        "start=0\n",
        "for i in range(k):\n",
        "    sub_data.append(norm_data[start:start+sub_len,:74])\n",
        "    start+=sub_len\n",
        "sub_data=np.array(sub_data)\n",
        "cnt = 1\n",
        "\n",
        "\n",
        "\n",
        "INPUT_LENGHT = train.shape[1]  +1\n",
        "HIDDEN_UNITS = 1000\n",
        "\n",
        "Win = np.random.normal(size=[INPUT_LENGHT, HIDDEN_UNITS])\n",
        "print('Input Weight shape: {shape}'.format(shape=Win.shape))\n",
        "\n",
        "\n",
        "def gaussian(x):\n",
        "    return np.exp(-(x))\n",
        "def input_to_hidden(x,o=\"g\"):\n",
        "    a = np.dot(x, Win)\n",
        "    if o==\"g\":\n",
        "        a=gaussian(a)\n",
        "    else:\n",
        "        a = np.tanh(a) \n",
        "    return a\n",
        "\n",
        "def predict(x):\n",
        "    x = input_to_hidden(x)\n",
        "    y = np.dot(x, Wout)\n",
        "    return y\n",
        "\n",
        "def acc(h,test_output):\n",
        "    TN = 0\n",
        "    TP = 0\n",
        "    FN = 0\n",
        "    FP = 0\n",
        "    for i in range(test_output.shape[0]):\n",
        "        if (h[i] == test_output[i]) & (test_output[i] == 0):\n",
        "            TN += 1\n",
        "        elif (h[i] == test_output[i]) & (test_output[i] == 1):\n",
        "            TP += 1\n",
        "        elif (h[i] == 0) & (test_output[i] == 1):\n",
        "            FN += 1\n",
        "        elif (h[i] == 1) & (test_output[i] == 0):\n",
        "            FP += 1\n",
        "\n",
        "    SE=TP/(TP+FN)\n",
        "    SP=TN/(TN+FP)\n",
        "    Acc=(TP+TN)/(TP+FN+TN+FP)\n",
        "    return TP,FN,SE*100\n",
        "\n",
        "acc=0\n",
        "for i in range(k):\n",
        "    start = 0\n",
        "    test_data = sub_data[i, :, :73].reshape(-1, 73)\n",
        "    test_label = sub_data[i, :, 73].reshape(-1, 1)\n",
        "    temp = np.delete(sub_data, i, axis=0)\n",
        "    train_data = temp[:, :, :73].reshape(-1, 73)\n",
        "    train_label = temp[:, :,73].reshape(-1, 1)\n",
        "\n",
        "    X = input_to_hidden(train_data)\n",
        "    Xt = np.transpose(X)\n",
        "    Wout = np.dot(np.linalg.inv(np.dot(Xt, X)), np.dot(Xt, train_label))\n",
        "    y = predict(test_data)\n",
        "    correct = 0\n",
        "    total = y.shape[0]\n",
        "    for i in range(total):\n",
        "        predicted = np.argmax(y[i])\n",
        "        test = np.argmax(test_label[i])\n",
        "        correct = correct + (1 if predicted == test else 0)\n",
        "    print(\"Fold\", cnt, \"\\n\")\n",
        "    print('Accuracy: {:f}'.format(correct*100/total))\n",
        "    print(\"\\n\")\n",
        "    acc+=correct*100/total\n",
        "    cnt += 1\n",
        "print(\"Overall Accuracy :\",acc/5)"
      ],
      "execution_count": null,
      "outputs": [
        {
          "output_type": "stream",
          "text": [
            "Input Weight shape: (73, 1000)\n",
            "Fold 1 \n",
            "\n",
            "Accuracy: 100.000000\n",
            "\n",
            "\n",
            "Fold 2 \n",
            "\n",
            "Accuracy: 100.000000\n",
            "\n",
            "\n",
            "Fold 3 \n",
            "\n",
            "Accuracy: 100.000000\n",
            "\n",
            "\n",
            "Fold 4 \n",
            "\n",
            "Accuracy: 100.000000\n",
            "\n",
            "\n",
            "Fold 5 \n",
            "\n",
            "Accuracy: 100.000000\n",
            "\n",
            "\n",
            "Overall Accuracy : 100.0\n"
          ],
          "name": "stdout"
        }
      ]
    },
    {
      "cell_type": "markdown",
      "metadata": {
        "id": "9_4awa2c3Hmu"
      },
      "source": [
        "## Q.7 ELM-Autoencoders"
      ]
    },
    {
      "cell_type": "code",
      "metadata": {
        "colab": {
          "base_uri": "https://localhost:8080/"
        },
        "id": "3jfWw0-nyGnG",
        "outputId": "a55d01f0-7b61-4750-e6ce-ec7c81587660"
      },
      "source": [
        "import scipy.io\n",
        "mat = scipy.io.loadmat('/content/drive/MyDrive/Copy of data5.mat')\n",
        "\n",
        "data = np.array(mat['x'])\n",
        "\n",
        "train, train_label, val, val_label, test, test_label = holdout_crossvalid(data, 0.7, 0.1, 0.2,True)\n",
        "\n",
        "np.unique(train_label)  #No. of classes\n",
        "\n",
        "INPUT_LENGHT = train.shape[1] \n",
        "HIDDEN_UNITS = 1000\n",
        "\n",
        "Win = np.random.rand(INPUT_LENGHT, HIDDEN_UNITS)\n",
        "\n",
        "from numpy import linalg\n",
        "def gaussian(x):\n",
        "    return np.exp(-numpy.linalg.norm(x,order=2))\n",
        "\n",
        "def input_to_hidden(x,Win,o=\"n\"):\n",
        "    a = np.dot(x, Win)\n",
        "    if o==\"g\":\n",
        "        a=gaussian(a)\n",
        "    else:\n",
        "        a = np.tanh(a) \n",
        "    return a\n",
        "\n",
        "def predict(x,Wout):\n",
        "    x = input_to_hidden(x,Win)\n",
        "    y = np.dot(x, w)\n",
        "    return y\n",
        "\n",
        "X = input_to_hidden(train,Win)\n",
        "Xt = np.transpose(X)\n",
        "Wout = np.dot(np.linalg.inv(np.dot(Xt, X)), np.dot(Xt, train))\n",
        "\n",
        "Win = np.random.rand(INPUT_LENGHT, HIDDEN_UNITS)\n",
        "h1= input_to_hidden(train,Wout.T)\n",
        "X = input_to_hidden(h1,Win.T)\n",
        "Xt=np.transpose(X)\n",
        "Wout_ = np.dot(np.linalg.inv(np.dot(Xt, X)), np.dot(Xt, h1))\n",
        "\n",
        "\n",
        "\n",
        "h2= input_to_hidden(h1,Wout_.T)\n",
        "X = input_to_hidden(h2,Win)\n",
        "Xt=np.transpose(X)\n",
        "Wout1 = np.dot(np.linalg.inv(np.dot(Xt, X)), np.dot(Xt, h2))\n",
        "\n",
        "X = input_to_hidden(h2,Wout_)\n",
        "Xt = np.transpose(X)\n",
        "Wout2 = np.dot(np.linalg.inv(np.dot(Xt, X)), np.dot(Xt, train_label))\n",
        "\n",
        "x=input_to_hidden(train,Wout.T)\n",
        "x_=input_to_hidden(x,Wout_.T)\n",
        "y_=input_to_hidden(x_,Wout1.T)\n",
        "y=input_to_hidden(y_,Wout2)\n",
        "\n",
        "correct = 0\n",
        "total = y.shape[0]\n",
        "for i in range(total):\n",
        "    predicted = np.argmax(y[i])\n",
        "    test_ = np.argmax(train_label[i])\n",
        "    correct = correct + (1 if predicted == test_ else 0)\n",
        "    \n",
        "print('Accuracy Train set: {:f}'.format(correct*100/total),\"%\")\n",
        "\n",
        "x=input_to_hidden(test,Wout.T)\n",
        "x_=input_to_hidden(x,Wout_.T)\n",
        "y_=input_to_hidden(x_,Wout1.T)\n",
        "y=input_to_hidden(y_,Wout2)\n",
        "\n",
        "correct = 0\n",
        "total = y.shape[0]\n",
        "for i in range(total):\n",
        "    predicted = np.argmax(y[i])\n",
        "    test_ = np.argmax(test_label[i])\n",
        "    correct = correct + (1 if predicted == test_ else 0)\n",
        "    \n",
        "print('Accuracy Test set: {:f}'.format(correct*100/total),\"%\")\n",
        "\n",
        "x=input_to_hidden(val,Wout.T)\n",
        "x_=input_to_hidden(x,Wout_.T)\n",
        "y_=input_to_hidden(x_,Wout1.T)\n",
        "y=input_to_hidden(y_,Wout2)\n",
        "\n",
        "correct = 0\n",
        "total = y.shape[0]\n",
        "for i in range(total):\n",
        "    predicted = np.argmax(y[i])\n",
        "    test_ = np.argmax(val_label[i])\n",
        "    correct = correct + (1 if predicted == test_ else 0)\n",
        "    \n",
        "print('Accuracy Validation set: {:f}'.format(correct*100/total),\"%\")"
      ],
      "execution_count": null,
      "outputs": [
        {
          "output_type": "stream",
          "text": [
            "Accuracy Train set: 100.000000 %\n",
            "Accuracy Test set: 100.000000 %\n",
            "Accuracy Validation set: 100.000000 %\n"
          ],
          "name": "stdout"
        }
      ]
    },
    {
      "cell_type": "markdown",
      "metadata": {
        "id": "HCMc9-M83eYB"
      },
      "source": [
        "## Q.8 SVM"
      ]
    },
    {
      "cell_type": "code",
      "metadata": {
        "id": "cfJMF4jh3emk"
      },
      "source": [
        "import scipy.io\n",
        "import random as rand\n",
        "import math\n",
        "mat = scipy.io.loadmat('/content/drive/MyDrive/Copy of data5.mat')\n",
        "\n",
        "data = np.array(mat['x'])\n",
        "\n",
        "train, train_label, val, val_label, test, test_label = holdout_crossvalid(data, 0.7, 0.1, 0.2,True)\n",
        "\n",
        "np.unique(train_label)  #No. of classes\n",
        "\n",
        "def GaussianMatrix(X,sigma):\n",
        "    row,col=X.shape\n",
        "    GassMatrix=np.zeros(shape=(row,row))\n",
        "    X=np.asarray(X)\n",
        "    i=0\n",
        "    for v_i in X:\n",
        "        j=0\n",
        "        for v_j in X:\n",
        "            GassMatrix[i,j]=Gaussian(v_i.T,v_j.T,sigma)\n",
        "            j+=1\n",
        "        i+=1\n",
        "    return GassMatrix\n",
        "\n",
        "def Gaussian(x,z,sigma):\n",
        "    return np.exp((-(np.linalg.norm(x-z)**2))/(2*sigma**2))\n",
        "\n",
        "\n",
        "\n",
        "z=np.zeros((train_label.shape[0],1))\n",
        "for i in range(train_label.shape[0]):\n",
        "    if train_label[i]==0:\n",
        "        z[i]=-1\n",
        "    else:\n",
        "        z[i]=1\n",
        "X=train\n",
        "Y=z\n",
        "def SVM(X,Y,test,test_label,K,C,maxiter,val=None, val_label=None) :\n",
        "  b=0\n",
        "  itr=0\n",
        "  m=train.shape[0]\n",
        "  E=np.zeros((X.shape[0],1))\n",
        "  mus=np.zeros((X.shape[0],1))\n",
        "  bound=0.0001\n",
        "  L=0\n",
        "  H=0\n",
        "  while (itr<maxiter):\n",
        "      rand.seed(0)\n",
        "      cnt=0\n",
        "      for i in range(X.shape[0]):\n",
        "          E[i] = b + np.sum((mus*Y)*K[:,i]) - Y[i]\n",
        "          if ((Y[i] * E[i] < -bound and mus[i] < C) or (Y[i] * E[i] > bound and mus[i] > 0)):\n",
        "              \n",
        "              j = int(rand.uniform(0,m))\n",
        "              while j == i:\n",
        "                 \n",
        "                  j =(int(rand.uniform(0,m)))\n",
        "              \n",
        "              E[j] = b + np.sum((mus*Y)*K[:,j].reshape(-1,1)) - Y[j]\n",
        "              mu_i_old = mus[i]\n",
        "              mu_j_old = mus[j]\n",
        "              if (Y[i] == Y[j]):\n",
        "                  L = max(0, mus[i] + mus[j] - C)\n",
        "                  H = min(C, mus[i] + mus[j])\n",
        "              else:\n",
        "                  L = max(0, -mus[i] + mus[j])\n",
        "                  H = min(C, C - mus[i] + mus[j])\n",
        "\n",
        "              if (L == H):\n",
        "                  continue\n",
        "\n",
        "              eta = 2 * K[i, j] - K[i, i] - K[j, j]\n",
        "              if (eta >= 0):\n",
        "                  continue\n",
        "              \n",
        "              mus[j] = mus[j] - (Y[j] * (E[i] - E[j])) / eta\n",
        "              mus[j] = min(H, mus[j])\n",
        "              mus[j] = max(L, mus[j])\n",
        "              if (abs(mus[j] - mu_j_old) < bound):\n",
        "                  mus[j] = mu_j_old\n",
        "                  continue\n",
        "              mus[i] = mus[i] + (Y[i] * Y[j] * (-mus[j] + mus_j_old))\n",
        "              b1 = b - E[i] - Y[i] * (mus[i] - mu_i_old) * K[i, j].H - Y[j] * (mus[j] - mus[i]) * K[i, j].H\n",
        "              b2 = b - E[j] - Y[i] * (mus[i] - mu_i_old) * K[i, j].H - Y[j] * (mus[j] - mus[i]) * K[j, j].H\n",
        "              if (mus[i] > 0 and mus[i] < C):\n",
        "                  b = b1\n",
        "              elif (mus[j] > 0 and mus[j] < C):\n",
        "                  b = b2\n",
        "              else:\n",
        "                  b = (b1 + b2) / 2\n",
        "\n",
        "              cnt += 1\n",
        "      if(cnt==0):\n",
        "          itr+=1\n",
        "      else:\n",
        "          itr=0\n",
        "  Xsvm=[]\n",
        "  Ysvm=[]\n",
        "  mus_=[]\n",
        "  for i in range(mus.shape[0]):\n",
        "      if mus[i]>0:\n",
        "          Ysvm.append(Y[ i])\n",
        "          Xsvm.append(X[i,:])\n",
        "          mus_.append(mus[i])\n",
        "  Xsvm=np.array(Xsvm)\n",
        "  Ysvm=np.array(Ysvm)\n",
        "  mus_=np.array(mus_)\n",
        "\n",
        "  w=np.dot((mus_*Ysvm).T,Xsvm).T\n",
        "\n",
        "  p=np.dot(test,w)+b\n",
        "  q=[]\n",
        "  for i in range(p.shape[0]):\n",
        "      if p[i]>0:\n",
        "          q.append(1)\n",
        "      else:\n",
        "          q.append(0)\n",
        "\n",
        "  t=0\n",
        "  for i in range(test_label.shape[0]):\n",
        "      if test_label[i]==q[i]:\n",
        "          t+=1\n",
        "\n",
        "  p=np.dot(X,w)+b\n",
        "  q=[]\n",
        "  for i in range(p.shape[0]):\n",
        "      if p[i]>0:\n",
        "          q.append(1)\n",
        "      else:\n",
        "          q.append(-1)\n",
        "\n",
        "  l=0\n",
        "  for i in range(Y.shape[0]):\n",
        "      if Y[i]==q[i]:\n",
        "          l+=1\n",
        "\n",
        "  if val is not None:\n",
        "    p=np.dot(val,w)+b\n",
        "    q=[]\n",
        "    for i in range(p.shape[0]):\n",
        "        if p[i]>0:\n",
        "            q.append(1)\n",
        "        else:\n",
        "            q.append(0)\n",
        "    o=0\n",
        "    for i in range(val_label.shape[0]):\n",
        "        if val_label[i]==q[i]:\n",
        "            o+=1       \n",
        "    return t*100/test_label.shape[0],o*100/val_label.shape[0],l*100/X.shape[0]\n",
        "  return t*100/test_label.shape[0],l*100/X.shape[0]"
      ],
      "execution_count": null,
      "outputs": []
    },
    {
      "cell_type": "code",
      "metadata": {
        "id": "IzpnrJCY4ehU"
      },
      "source": [
        "class_acc1,class_acc2,class_acc3=SVM(X,Y,test,test_label,K=np.dot(X,X.T),C=5,maxiter=30,val=val,val_label=val_label)"
      ],
      "execution_count": null,
      "outputs": []
    },
    {
      "cell_type": "code",
      "metadata": {
        "colab": {
          "base_uri": "https://localhost:8080/"
        },
        "id": "F8fzUkkS5CKu",
        "outputId": "af585ed7-9d12-4fec-99f5-28b8a1c064f1"
      },
      "source": [
        "print(\"Training Accuracy :\",class_acc3,\"%\")\n",
        "print(\"Validation Accuracy :\",class_acc2,\"%\")\n",
        "print(\"Test Accuracy :\",class_acc1,\"%\")"
      ],
      "execution_count": null,
      "outputs": [
        {
          "output_type": "stream",
          "text": [
            "Training Accuracy : 84.4311377245509 %\n",
            "Validation Accuracy : 85.04672897196262 %\n",
            "Test Accuracy : 85.61484918793504 %\n"
          ],
          "name": "stdout"
        }
      ]
    },
    {
      "cell_type": "markdown",
      "metadata": {
        "id": "NXKzu8AC4Qhu"
      },
      "source": [
        "##### Multiclass classification using SVM and 1 vs all multiclass classification technique"
      ]
    },
    {
      "cell_type": "code",
      "metadata": {
        "id": "RcokwFLDWzVl"
      },
      "source": [
        "#Dataset used is from Assignment 1\n",
        "df=pd.read_excel('/content/drive/MyDrive/data4.xlsx',header=None)\n",
        "vec=df.to_numpy()"
      ],
      "execution_count": null,
      "outputs": []
    },
    {
      "cell_type": "code",
      "metadata": {
        "id": "zGmlcc7VWv3Y"
      },
      "source": [
        "np.random.seed(42) \n",
        "np.random.shuffle(vec)\n",
        "\n",
        "total=vec.shape[0]\n",
        "train_len=int(0.7*total)\n",
        "train_features=vec[:train_len,:7]\n",
        "test_features=vec[train_len:,:7]\n",
        "train_output=vec[:train_len,7].reshape(-1,1)\n",
        "test_output=vec[train_len:,7].reshape(-1,1)\n",
        "\n",
        "x=[]\n",
        "mean=[]\n",
        "std=[]\n",
        "for i in range(train_features.shape[1]):\n",
        "    x.append((train_features[:,i]-np.mean(train_features[:,i]))/np.std(train_features[:,i]))\n",
        "    mean.append(np.mean(train_features[:,i]))\n",
        "    std.append(np.std(train_features[:,i]))\n",
        "\n",
        "\n",
        "train_features=np.array(x)\n",
        "train = np.append(train_features.T,np.ones([train_features.shape[1], 1]),axis=1)\n",
        "\n",
        "x=[]\n",
        "for i in range(test_features.shape[1]):\n",
        "    x.append((test_features[:,i]-mean[i])/std[i])\n",
        "    \n",
        "test_features=np.array(x)\n",
        "test = np.append(test_features.T,np.ones([test_features.shape[1], 1]),axis=1)"
      ],
      "execution_count": null,
      "outputs": []
    },
    {
      "cell_type": "code",
      "metadata": {
        "id": "XBLycn1T3erH"
      },
      "source": [
        "#Preparing data for 1 vs all multiclass classification\n",
        "\n",
        "train_label=np.zeros(shape=(train_output.shape[0],3))\n",
        "for i in range(3):\n",
        "    for j in range(train_output.shape[0]):\n",
        "        if train_output[j]==i+1:\n",
        "            train_label[j][i]=1\n",
        "            \n",
        "        else:\n",
        "            train_label[j][i]=-1\n",
        "\n",
        "test_label=np.zeros(shape=(test_output.shape[0],3))\n",
        "for i in range(3):\n",
        "    for j in range(test_output.shape[0]):\n",
        "        if test_output[j]==i+1:\n",
        "            test_label[j][i]=1\n",
        "            \n",
        "        else:\n",
        "            test_label[j][i]=0"
      ],
      "execution_count": null,
      "outputs": []
    },
    {
      "cell_type": "code",
      "metadata": {
        "id": "Q5lqds0Iwagk"
      },
      "source": [
        "_,class1_acc=SVM(train,train_label[:,0].reshape(-1,1),test,test_label[:,0].reshape(-1,1),K=np.dot(1+train,train.T)**3,C=0.1,maxiter=100)\n",
        "_,class2_acc=SVM(train,train_label[:,1].reshape(-1,1),test,test_label[:,1].reshape(-1,1),K=np.dot(train,train.T),C=0.01,maxiter=100)\n",
        "_,class3_acc=SVM(train,train_label[:,2].reshape(-1,1),test,test_label[:,2].reshape(-1,1),K=np.dot(train,train.T),C=0.1,maxiter=200)"
      ],
      "execution_count": null,
      "outputs": []
    },
    {
      "cell_type": "code",
      "metadata": {
        "colab": {
          "base_uri": "https://localhost:8080/"
        },
        "id": "OgIoTacmuBH5",
        "outputId": "a490577f-fef4-4d92-f08a-00a74a08de59"
      },
      "source": [
        "print(\"Accuracy Class1 Class2 Class 3 - \",round(class1_acc,4),'%',class2_acc,'%',round(class3_acc,4),'%')\n",
        "print(\"Overall Accuracy\",round((class1_acc+class2_acc+class3_acc)/3,4),'%')"
      ],
      "execution_count": null,
      "outputs": [
        {
          "output_type": "stream",
          "text": [
            "Accuracy Class1 Class2 Class 3 -  100.0 % 63.80952380952381 % 88.5714 %\n",
            "Overall Accuracy 84.127 %\n"
          ],
          "name": "stdout"
        }
      ]
    },
    {
      "cell_type": "markdown",
      "metadata": {
        "id": "tD4eXvFfKUr8"
      },
      "source": [
        "## Q.9 1D CNN"
      ]
    },
    {
      "cell_type": "code",
      "metadata": {
        "id": "hf4kN6KAXKxF"
      },
      "source": [
        "mat = scipy.io.loadmat('/content/drive/MyDrive/Copy of input.mat')\n",
        "mat_ = scipy.io.loadmat('/content/drive/MyDrive/Copy of class_label.mat')\n",
        "data = np.array(mat['x']).T\n",
        "label=np.array(mat_['y'])"
      ],
      "execution_count": null,
      "outputs": []
    },
    {
      "cell_type": "code",
      "metadata": {
        "id": "hPOZxyAmXL56"
      },
      "source": [
        "temp=[]\n",
        "for i in range(data.shape[0]):\n",
        "    temp.append(data[i][0].T)"
      ],
      "execution_count": null,
      "outputs": []
    },
    {
      "cell_type": "code",
      "metadata": {
        "id": "vkavNM30XL-0"
      },
      "source": [
        "train=np.array(temp)"
      ],
      "execution_count": null,
      "outputs": []
    },
    {
      "cell_type": "code",
      "metadata": {
        "id": "Z2zoHFVKYsO1"
      },
      "source": [
        "num_classes = 7\n",
        "input_shape = train.T.shape[0:2]"
      ],
      "execution_count": null,
      "outputs": []
    },
    {
      "cell_type": "code",
      "metadata": {
        "id": "tdwZya--Bfga"
      },
      "source": [
        "#Holdout cross validation"
      ],
      "execution_count": null,
      "outputs": []
    },
    {
      "cell_type": "code",
      "metadata": {
        "id": "oSdZhUdLc1iA"
      },
      "source": [
        "X_train, X_test, y_train, y_test = train_test_split(train, label, test_size=0.2, random_state=1)\n",
        "y_train = keras.utils.to_categorical(np.asarray(y_train)-1)\n",
        "y_test=keras.utils.to_categorical(np.asarray(y_test)-1)"
      ],
      "execution_count": null,
      "outputs": []
    },
    {
      "cell_type": "code",
      "metadata": {
        "id": "J1tgTmZ8vxrW"
      },
      "source": [
        "#CNN Model"
      ],
      "execution_count": null,
      "outputs": []
    },
    {
      "cell_type": "code",
      "metadata": {
        "colab": {
          "base_uri": "https://localhost:8080/"
        },
        "id": "XMvhzgP5Yt2H",
        "outputId": "beb111c1-6446-4131-f4d4-b664e2b039b9"
      },
      "source": [
        "model = keras.Sequential(\n",
        "    [\n",
        "        layers.Conv1D(20, kernel_size=7, input_shape=(800,12),activation=\"relu\"),\n",
        "        layers.MaxPooling1D(pool_size=3,strides=3),\n",
        "        layers.Conv1D(60, kernel_size=7,activation=\"relu\"),\n",
        "        layers.MaxPooling1D(pool_size=3,strides=3),\n",
        "        layers.Dropout(.7),\n",
        "        layers.Conv1D(120, kernel_size=7),\n",
        "        layers.Conv1D(120, kernel_size=7),\n",
        "        layers.Flatten(),\n",
        "        layers.Dense(2000, activation=\"relu\"),\n",
        "        layers.Dense(700),\n",
        "        layers.Dense(500),\n",
        "        layers.Dense(num_classes, activation=\"sigmoid\"),\n",
        "    ]\n",
        ")\n",
        "\n",
        "model.summary()"
      ],
      "execution_count": null,
      "outputs": [
        {
          "output_type": "stream",
          "text": [
            "Model: \"sequential\"\n",
            "_________________________________________________________________\n",
            "Layer (type)                 Output Shape              Param #   \n",
            "=================================================================\n",
            "conv1d (Conv1D)              (None, 794, 20)           1700      \n",
            "_________________________________________________________________\n",
            "max_pooling1d (MaxPooling1D) (None, 264, 20)           0         \n",
            "_________________________________________________________________\n",
            "conv1d_1 (Conv1D)            (None, 258, 60)           8460      \n",
            "_________________________________________________________________\n",
            "max_pooling1d_1 (MaxPooling1 (None, 86, 60)            0         \n",
            "_________________________________________________________________\n",
            "dropout (Dropout)            (None, 86, 60)            0         \n",
            "_________________________________________________________________\n",
            "conv1d_2 (Conv1D)            (None, 80, 120)           50520     \n",
            "_________________________________________________________________\n",
            "conv1d_3 (Conv1D)            (None, 74, 120)           100920    \n",
            "_________________________________________________________________\n",
            "flatten (Flatten)            (None, 8880)              0         \n",
            "_________________________________________________________________\n",
            "dense (Dense)                (None, 2000)              17762000  \n",
            "_________________________________________________________________\n",
            "dense_1 (Dense)              (None, 700)               1400700   \n",
            "_________________________________________________________________\n",
            "dense_2 (Dense)              (None, 500)               350500    \n",
            "_________________________________________________________________\n",
            "dense_3 (Dense)              (None, 7)                 3507      \n",
            "=================================================================\n",
            "Total params: 19,678,307\n",
            "Trainable params: 19,678,307\n",
            "Non-trainable params: 0\n",
            "_________________________________________________________________\n"
          ],
          "name": "stdout"
        }
      ]
    },
    {
      "cell_type": "code",
      "metadata": {
        "colab": {
          "base_uri": "https://localhost:8080/"
        },
        "id": "irT-peBsYzOz",
        "outputId": "67a3ed22-1a00-482a-890c-04d8fc8eb2bf"
      },
      "source": [
        "batch_size = 512\n",
        "epochs = 8\n",
        "\n",
        "model.compile(loss=\"categorical_crossentropy\", optimizer=\"adam\", metrics=[\"accuracy\"])\n",
        "\n",
        "model.fit(X_train, y_train, batch_size=batch_size, epochs=epochs, validation_split=0.125)"
      ],
      "execution_count": null,
      "outputs": [
        {
          "output_type": "stream",
          "text": [
            "Epoch 1/8\n",
            "24/24 [==============================] - 2s 74ms/step - loss: 0.9682 - accuracy: 0.6313 - val_loss: 0.0519 - val_accuracy: 0.9825\n",
            "Epoch 2/8\n",
            "24/24 [==============================] - 1s 49ms/step - loss: 0.0679 - accuracy: 0.9791 - val_loss: 0.0049 - val_accuracy: 1.0000\n",
            "Epoch 3/8\n",
            "24/24 [==============================] - 1s 49ms/step - loss: 0.0235 - accuracy: 0.9943 - val_loss: 4.4610e-04 - val_accuracy: 1.0000\n",
            "Epoch 4/8\n",
            "24/24 [==============================] - 1s 49ms/step - loss: 0.0105 - accuracy: 0.9971 - val_loss: 5.9081e-05 - val_accuracy: 1.0000\n",
            "Epoch 5/8\n",
            "24/24 [==============================] - 1s 49ms/step - loss: 0.0100 - accuracy: 0.9978 - val_loss: 2.3375e-04 - val_accuracy: 1.0000\n",
            "Epoch 6/8\n",
            "24/24 [==============================] - 1s 48ms/step - loss: 0.0107 - accuracy: 0.9973 - val_loss: 3.1451e-04 - val_accuracy: 1.0000\n",
            "Epoch 7/8\n",
            "24/24 [==============================] - 1s 49ms/step - loss: 0.0086 - accuracy: 0.9982 - val_loss: 5.7699e-05 - val_accuracy: 1.0000\n",
            "Epoch 8/8\n",
            "24/24 [==============================] - 1s 48ms/step - loss: 0.0157 - accuracy: 0.9961 - val_loss: 1.0656e-04 - val_accuracy: 1.0000\n"
          ],
          "name": "stdout"
        },
        {
          "output_type": "execute_result",
          "data": {
            "text/plain": [
              "<tensorflow.python.keras.callbacks.History at 0x7f1e1017f588>"
            ]
          },
          "metadata": {
            "tags": []
          },
          "execution_count": 34
        }
      ]
    },
    {
      "cell_type": "code",
      "metadata": {
        "colab": {
          "base_uri": "https://localhost:8080/"
        },
        "id": "KQwigXy5ahVO",
        "outputId": "deff8aca-18f3-4a1b-fb25-5ea723bc57be"
      },
      "source": [
        "score = model.evaluate(X_test, y_test, verbose=0)\n",
        "print(\"Test loss:\", score[0])\n",
        "print(\"Test accuracy:\", score[1]*100,\"%\")"
      ],
      "execution_count": null,
      "outputs": [
        {
          "output_type": "stream",
          "text": [
            "Test loss: 8.370493742404506e-05\n",
            "Test accuracy: 100.0 %\n"
          ],
          "name": "stdout"
        }
      ]
    },
    {
      "cell_type": "code",
      "metadata": {
        "ExecuteTime": {
          "end_time": "2020-09-28T07:33:31.248373Z",
          "start_time": "2020-09-28T07:33:30.351890Z"
        },
        "id": "dkJG-jxno1jp"
      },
      "source": [
        "predictions = model.predict(X_test)\n",
        "predictions = predictions.argmax( axis=1)\n",
        "#predictions"
      ],
      "execution_count": null,
      "outputs": []
    },
    {
      "cell_type": "code",
      "metadata": {
        "ExecuteTime": {
          "end_time": "2020-09-28T07:33:31.263644Z",
          "start_time": "2020-09-28T07:33:31.250369Z"
        },
        "id": "6K6lvRe3o1jq"
      },
      "source": [
        "cm = confusion_matrix(y_test.argmax(axis=1), predictions)\n",
        "cm = cm/cm.sum(axis=1)[:, np.newaxis]\n",
        "l=np.unique(predictions)"
      ],
      "execution_count": null,
      "outputs": []
    },
    {
      "cell_type": "code",
      "metadata": {
        "ExecuteTime": {
          "end_time": "2020-09-28T07:33:31.751326Z",
          "start_time": "2020-09-28T07:33:31.265233Z"
        },
        "id": "wDqYxikno1js",
        "colab": {
          "base_uri": "https://localhost:8080/",
          "height": 627
        },
        "outputId": "1292c09e-e5fb-4c64-b3f8-0f3ff38a4416"
      },
      "source": [
        "fig, ax = plt.subplots(figsize=(10,10))  \n",
        "sns.heatmap(\n",
        "    cm, annot=True,\n",
        "    xticklabels=set(l),\n",
        "    yticklabels=set(l))\n",
        "plt.xlabel(\"Predicted\")\n",
        "plt.ylabel(\"True\")"
      ],
      "execution_count": null,
      "outputs": [
        {
          "output_type": "execute_result",
          "data": {
            "text/plain": [
              "Text(69.0, 0.5, 'True')"
            ]
          },
          "metadata": {
            "tags": []
          },
          "execution_count": 38
        },
        {
          "output_type": "display_data",
          "data": {
            "image/png": "[encoded data removed]",
            "text/plain": [
              "<Figure size 720x720 with 2 Axes>"
            ]
          },
          "metadata": {
            "tags": [],
            "needs_background": "light"
          }
        }
      ]
    },
    {
      "cell_type": "markdown",
      "metadata": {
        "id": "bW6zEXO8KG7q"
      },
      "source": [
        "## Q.10 2D CNN"
      ]
    },
    {
      "cell_type": "code",
      "metadata": {
        "id": "86jY8XzabYW8"
      },
      "source": [
        "# import zipfile\n",
        "# with zipfile.ZipFile(\"/content/drive/MyDrive/Copy of class1_images.zip\", 'r') as zip_ref:\n",
        "#     zip_ref.extractall(\"/content/drive/MyDrive\")\n",
        "# with zipfile.ZipFile(\"/content/drive/MyDrive/Copy of class2_images.zip\", 'r') as zip_ref:\n",
        "#     zip_ref.extractall(\"/content/drive/MyDrive\")\n",
        "# with zipfile.ZipFile(\"/content/drive/MyDrive/Copy of class3_images.zip\", 'r') as zip_ref:\n",
        "#     zip_ref.extractall(\"/content/drive/MyDrive\")"
      ],
      "execution_count": null,
      "outputs": []
    },
    {
      "cell_type": "code",
      "metadata": {
        "id": "iHiQrC8vvTnx"
      },
      "source": [
        "#Pre-processing images"
      ],
      "execution_count": null,
      "outputs": []
    },
    {
      "cell_type": "code",
      "metadata": {
        "id": "8tiCGdYghodz"
      },
      "source": [
        "image_list = []\n",
        "label=[]\n",
        "for filename in glob.glob('/content/drive/MyDrive/class1_images/*.png'): \n",
        "    im=Image.open(filename)\n",
        "    im=im.resize((28, 28))\n",
        "    data = np.asarray(im)/255\n",
        "    image_list.append(data)\n",
        "    label.append(1)\n",
        "class1=np.array(image_list)\n",
        "\n",
        "image_list = []\n",
        "for filename in glob.glob('/content/drive/MyDrive/class2_images/*.png'): \n",
        "    im=Image.open(filename)\n",
        "    im=im.resize((28, 28))\n",
        "    data = np.asarray(im)/255\n",
        "    image_list.append(data)\n",
        "    label.append(2)\n",
        "class2=np.array(image_list)\n",
        "\n",
        "image_list = []\n",
        "for filename in glob.glob('/content/drive/MyDrive/class3_images/*.png'): \n",
        "    im=Image.open(filename)\n",
        "    im=im.resize((28, 28))\n",
        "    data = np.asarray(im)/255\n",
        "    image_list.append(data)\n",
        "    label.append(3)\n",
        "class3=np.array(image_list)\n",
        "label=np.array(label)"
      ],
      "execution_count": null,
      "outputs": []
    },
    {
      "cell_type": "code",
      "metadata": {
        "id": "f9uBdNIpvK4C"
      },
      "source": [
        "#CNN Model"
      ],
      "execution_count": null,
      "outputs": []
    },
    {
      "cell_type": "code",
      "metadata": {
        "id": "M82kWNTZAenF"
      },
      "source": [
        "def create_model():\n",
        "  model = Sequential()\n",
        "\n",
        "  model.add(Conv2D(filters = 64, kernel_size = (3,3),padding = 'Same', activation ='relu', input_shape = (28,28,3)))\n",
        "  model.add(Conv2D(filters = 64, kernel_size = (3,3),padding = 'Same', activation ='relu'))\n",
        "  model.add(MaxPool2D(pool_size=(2,2)))\n",
        "  model.add(Dropout(0.5))\n",
        "\n",
        "\n",
        "  model.add(Conv2D(filters = 128, kernel_size = (3,3),padding = 'Same',  activation ='relu'))\n",
        "  model.add(Conv2D(filters = 128, kernel_size = (3,3),padding = 'Same',  activation ='relu'))\n",
        "  model.add(MaxPool2D(pool_size=(2,2), strides=(2,2)))\n",
        "  model.add(Dropout(0.5))\n",
        "\n",
        "\n",
        "  model.add(Flatten())\n",
        "  model.add(Dense(256, activation = \"relu\"))\n",
        "  model.add(Dropout(0.5))\n",
        "  model.add(Dense(128, activation = \"relu\"))\n",
        "  model.add(Dense(64, activation = \"relu\"))\n",
        "  model.add(Dense(32, activation = \"relu\"))\n",
        "  model.add(Dense(3, activation = \"softmax\"))\n",
        "  return model"
      ],
      "execution_count": null,
      "outputs": []
    },
    {
      "cell_type": "code",
      "metadata": {
        "id": "RME39ldcur91"
      },
      "source": [
        "#Hold-out cross-validation"
      ],
      "execution_count": null,
      "outputs": []
    },
    {
      "cell_type": "code",
      "metadata": {
        "id": "38FgPJtLjXxc"
      },
      "source": [
        "X_train, X_test, y_train, y_test = train_test_split(np.vstack((class1,class2,class3)), label, test_size=0.2, random_state=1)\n",
        "y_train = keras.utils.to_categorical(np.asarray(y_train)-1)\n",
        "y_test=keras.utils.to_categorical(np.asarray(y_test)-1)"
      ],
      "execution_count": null,
      "outputs": []
    },
    {
      "cell_type": "code",
      "metadata": {
        "id": "7DS2PuH1smtn",
        "colab": {
          "base_uri": "https://localhost:8080/"
        },
        "outputId": "0569aedd-008c-45c7-a347-c2aad6c78118"
      },
      "source": [
        "batch_size = 64\n",
        "epochs = 100\n",
        "model=create_model()\n",
        "model.compile(loss=\"categorical_crossentropy\", optimizer=\"adam\", metrics=[\"accuracy\"])\n",
        "\n",
        "model.fit(X_train, y_train, batch_size=batch_size, epochs=epochs, validation_split=0.125)"
      ],
      "execution_count": null,
      "outputs": [
        {
          "output_type": "stream",
          "text": [
            "Epoch 1/100\n",
            "8/8 [==============================] - 0s 50ms/step - loss: 1.1107 - accuracy: 0.3472 - val_loss: 1.0955 - val_accuracy: 0.3750\n",
            "Epoch 2/100\n",
            "8/8 [==============================] - 0s 11ms/step - loss: 1.0993 - accuracy: 0.3393 - val_loss: 1.0975 - val_accuracy: 0.3750\n",
            "Epoch 3/100\n",
            "8/8 [==============================] - 0s 11ms/step - loss: 1.0983 - accuracy: 0.3552 - val_loss: 1.0978 - val_accuracy: 0.3750\n",
            "Epoch 4/100\n",
            "8/8 [==============================] - 0s 11ms/step - loss: 1.0971 - accuracy: 0.3690 - val_loss: 1.0972 - val_accuracy: 0.3750\n",
            "Epoch 5/100\n",
            "8/8 [==============================] - 0s 10ms/step - loss: 1.0975 - accuracy: 0.3611 - val_loss: 1.0960 - val_accuracy: 0.3750\n",
            "Epoch 6/100\n",
            "8/8 [==============================] - 0s 11ms/step - loss: 1.0993 - accuracy: 0.3472 - val_loss: 1.0981 - val_accuracy: 0.3750\n",
            "Epoch 7/100\n",
            "8/8 [==============================] - 0s 11ms/step - loss: 1.0979 - accuracy: 0.3433 - val_loss: 1.0981 - val_accuracy: 0.3750\n",
            "Epoch 8/100\n",
            "8/8 [==============================] - 0s 11ms/step - loss: 1.0985 - accuracy: 0.3413 - val_loss: 1.0978 - val_accuracy: 0.3750\n",
            "Epoch 9/100\n",
            "8/8 [==============================] - 0s 11ms/step - loss: 1.0970 - accuracy: 0.3571 - val_loss: 1.0970 - val_accuracy: 0.3750\n",
            "Epoch 10/100\n",
            "8/8 [==============================] - 0s 11ms/step - loss: 1.0988 - accuracy: 0.3472 - val_loss: 1.0971 - val_accuracy: 0.3750\n",
            "Epoch 11/100\n",
            "8/8 [==============================] - 0s 12ms/step - loss: 1.0973 - accuracy: 0.3512 - val_loss: 1.0974 - val_accuracy: 0.3750\n",
            "Epoch 12/100\n",
            "8/8 [==============================] - 0s 11ms/step - loss: 1.0981 - accuracy: 0.3532 - val_loss: 1.0973 - val_accuracy: 0.3750\n",
            "Epoch 13/100\n",
            "8/8 [==============================] - 0s 11ms/step - loss: 1.0975 - accuracy: 0.3552 - val_loss: 1.0972 - val_accuracy: 0.3750\n",
            "Epoch 14/100\n",
            "8/8 [==============================] - 0s 11ms/step - loss: 1.0978 - accuracy: 0.3552 - val_loss: 1.0978 - val_accuracy: 0.3750\n",
            "Epoch 15/100\n",
            "8/8 [==============================] - 0s 11ms/step - loss: 1.0972 - accuracy: 0.3552 - val_loss: 1.0972 - val_accuracy: 0.3750\n",
            "Epoch 16/100\n",
            "8/8 [==============================] - 0s 11ms/step - loss: 1.0969 - accuracy: 0.3552 - val_loss: 1.0973 - val_accuracy: 0.3750\n",
            "Epoch 17/100\n",
            "8/8 [==============================] - 0s 11ms/step - loss: 1.0974 - accuracy: 0.3532 - val_loss: 1.0974 - val_accuracy: 0.3750\n",
            "Epoch 18/100\n",
            "8/8 [==============================] - 0s 11ms/step - loss: 1.0960 - accuracy: 0.3512 - val_loss: 1.0971 - val_accuracy: 0.3750\n",
            "Epoch 19/100\n",
            "8/8 [==============================] - 0s 11ms/step - loss: 1.0990 - accuracy: 0.3552 - val_loss: 1.0965 - val_accuracy: 0.3750\n",
            "Epoch 20/100\n",
            "8/8 [==============================] - 0s 11ms/step - loss: 1.0991 - accuracy: 0.3611 - val_loss: 1.0972 - val_accuracy: 0.3750\n",
            "Epoch 21/100\n",
            "8/8 [==============================] - 0s 11ms/step - loss: 1.0986 - accuracy: 0.3472 - val_loss: 1.0972 - val_accuracy: 0.3750\n",
            "Epoch 22/100\n",
            "8/8 [==============================] - 0s 11ms/step - loss: 1.0973 - accuracy: 0.3552 - val_loss: 1.0974 - val_accuracy: 0.3750\n",
            "Epoch 23/100\n",
            "8/8 [==============================] - 0s 11ms/step - loss: 1.0974 - accuracy: 0.3552 - val_loss: 1.0972 - val_accuracy: 0.3750\n",
            "Epoch 24/100\n",
            "8/8 [==============================] - 0s 11ms/step - loss: 1.0976 - accuracy: 0.3552 - val_loss: 1.0971 - val_accuracy: 0.3750\n",
            "Epoch 25/100\n",
            "8/8 [==============================] - 0s 11ms/step - loss: 1.0973 - accuracy: 0.3552 - val_loss: 1.0969 - val_accuracy: 0.3750\n",
            "Epoch 26/100\n",
            "8/8 [==============================] - 0s 11ms/step - loss: 1.0971 - accuracy: 0.3552 - val_loss: 1.0966 - val_accuracy: 0.3750\n",
            "Epoch 27/100\n",
            "8/8 [==============================] - 0s 11ms/step - loss: 1.0977 - accuracy: 0.3552 - val_loss: 1.0965 - val_accuracy: 0.3750\n",
            "Epoch 28/100\n",
            "8/8 [==============================] - 0s 11ms/step - loss: 1.0963 - accuracy: 0.3552 - val_loss: 1.0968 - val_accuracy: 0.3750\n",
            "Epoch 29/100\n",
            "8/8 [==============================] - 0s 11ms/step - loss: 1.0975 - accuracy: 0.3552 - val_loss: 1.0963 - val_accuracy: 0.3750\n",
            "Epoch 30/100\n",
            "8/8 [==============================] - 0s 11ms/step - loss: 1.0972 - accuracy: 0.3552 - val_loss: 1.0962 - val_accuracy: 0.3750\n",
            "Epoch 31/100\n",
            "8/8 [==============================] - 0s 11ms/step - loss: 1.0971 - accuracy: 0.3591 - val_loss: 1.0966 - val_accuracy: 0.3750\n",
            "Epoch 32/100\n",
            "8/8 [==============================] - 0s 11ms/step - loss: 1.0980 - accuracy: 0.3611 - val_loss: 1.0968 - val_accuracy: 0.3750\n",
            "Epoch 33/100\n",
            "8/8 [==============================] - 0s 11ms/step - loss: 1.0963 - accuracy: 0.3552 - val_loss: 1.0955 - val_accuracy: 0.3750\n",
            "Epoch 34/100\n",
            "8/8 [==============================] - 0s 11ms/step - loss: 1.0975 - accuracy: 0.3571 - val_loss: 1.0923 - val_accuracy: 0.3750\n",
            "Epoch 35/100\n",
            "8/8 [==============================] - 0s 11ms/step - loss: 1.0960 - accuracy: 0.3591 - val_loss: 1.0912 - val_accuracy: 0.3750\n",
            "Epoch 36/100\n",
            "8/8 [==============================] - 0s 11ms/step - loss: 1.0910 - accuracy: 0.3571 - val_loss: 1.0656 - val_accuracy: 0.3750\n",
            "Epoch 37/100\n",
            "8/8 [==============================] - 0s 11ms/step - loss: 1.0557 - accuracy: 0.4266 - val_loss: 0.9083 - val_accuracy: 0.6111\n",
            "Epoch 38/100\n",
            "8/8 [==============================] - 0s 11ms/step - loss: 0.9449 - accuracy: 0.5218 - val_loss: 0.6655 - val_accuracy: 0.7083\n",
            "Epoch 39/100\n",
            "8/8 [==============================] - 0s 11ms/step - loss: 0.7337 - accuracy: 0.6131 - val_loss: 0.5793 - val_accuracy: 0.6944\n",
            "Epoch 40/100\n",
            "8/8 [==============================] - 0s 11ms/step - loss: 0.7145 - accuracy: 0.6389 - val_loss: 0.5141 - val_accuracy: 0.7222\n",
            "Epoch 41/100\n",
            "8/8 [==============================] - 0s 11ms/step - loss: 0.6336 - accuracy: 0.6786 - val_loss: 0.5559 - val_accuracy: 0.6250\n",
            "Epoch 42/100\n",
            "8/8 [==============================] - 0s 12ms/step - loss: 0.6023 - accuracy: 0.6865 - val_loss: 0.4937 - val_accuracy: 0.7361\n",
            "Epoch 43/100\n",
            "8/8 [==============================] - 0s 11ms/step - loss: 0.6077 - accuracy: 0.6984 - val_loss: 0.5017 - val_accuracy: 0.7222\n",
            "Epoch 44/100\n",
            "8/8 [==============================] - 0s 12ms/step - loss: 0.5821 - accuracy: 0.6984 - val_loss: 0.5124 - val_accuracy: 0.6806\n",
            "Epoch 45/100\n",
            "8/8 [==============================] - 0s 12ms/step - loss: 0.5544 - accuracy: 0.7183 - val_loss: 0.4926 - val_accuracy: 0.7778\n",
            "Epoch 46/100\n",
            "8/8 [==============================] - 0s 11ms/step - loss: 0.5433 - accuracy: 0.7063 - val_loss: 0.4857 - val_accuracy: 0.7361\n",
            "Epoch 47/100\n",
            "8/8 [==============================] - 0s 11ms/step - loss: 0.5455 - accuracy: 0.7044 - val_loss: 0.4505 - val_accuracy: 0.7500\n",
            "Epoch 48/100\n",
            "8/8 [==============================] - 0s 12ms/step - loss: 0.5156 - accuracy: 0.7341 - val_loss: 0.5056 - val_accuracy: 0.6944\n",
            "Epoch 49/100\n",
            "8/8 [==============================] - 0s 12ms/step - loss: 0.4957 - accuracy: 0.7738 - val_loss: 0.4260 - val_accuracy: 0.7917\n",
            "Epoch 50/100\n",
            "8/8 [==============================] - 0s 12ms/step - loss: 0.4946 - accuracy: 0.7897 - val_loss: 0.4595 - val_accuracy: 0.7083\n",
            "Epoch 51/100\n",
            "8/8 [==============================] - 0s 11ms/step - loss: 0.4488 - accuracy: 0.7718 - val_loss: 0.3437 - val_accuracy: 0.8472\n",
            "Epoch 52/100\n",
            "8/8 [==============================] - 0s 11ms/step - loss: 0.4044 - accuracy: 0.8155 - val_loss: 0.3295 - val_accuracy: 0.8333\n",
            "Epoch 53/100\n",
            "8/8 [==============================] - 0s 11ms/step - loss: 0.4122 - accuracy: 0.8194 - val_loss: 0.2761 - val_accuracy: 0.8889\n",
            "Epoch 54/100\n",
            "8/8 [==============================] - 0s 12ms/step - loss: 0.3780 - accuracy: 0.8254 - val_loss: 0.3107 - val_accuracy: 0.8750\n",
            "Epoch 55/100\n",
            "8/8 [==============================] - 0s 11ms/step - loss: 0.3623 - accuracy: 0.8413 - val_loss: 0.2633 - val_accuracy: 0.8889\n",
            "Epoch 56/100\n",
            "8/8 [==============================] - 0s 12ms/step - loss: 0.2914 - accuracy: 0.8690 - val_loss: 0.2044 - val_accuracy: 0.9028\n",
            "Epoch 57/100\n",
            "8/8 [==============================] - 0s 11ms/step - loss: 0.2453 - accuracy: 0.9028 - val_loss: 0.1562 - val_accuracy: 0.9444\n",
            "Epoch 58/100\n",
            "8/8 [==============================] - 0s 11ms/step - loss: 0.2317 - accuracy: 0.9107 - val_loss: 0.0862 - val_accuracy: 1.0000\n",
            "Epoch 59/100\n",
            "8/8 [==============================] - 0s 11ms/step - loss: 0.2819 - accuracy: 0.8849 - val_loss: 0.1553 - val_accuracy: 0.9444\n",
            "Epoch 60/100\n",
            "8/8 [==============================] - 0s 12ms/step - loss: 0.2389 - accuracy: 0.9107 - val_loss: 0.1349 - val_accuracy: 0.9306\n",
            "Epoch 61/100\n",
            "8/8 [==============================] - 0s 12ms/step - loss: 0.2000 - accuracy: 0.9226 - val_loss: 0.1298 - val_accuracy: 0.9306\n",
            "Epoch 62/100\n",
            "8/8 [==============================] - 0s 12ms/step - loss: 0.1819 - accuracy: 0.9206 - val_loss: 0.1083 - val_accuracy: 0.9444\n",
            "Epoch 63/100\n",
            "8/8 [==============================] - 0s 12ms/step - loss: 0.1249 - accuracy: 0.9504 - val_loss: 0.0818 - val_accuracy: 0.9583\n",
            "Epoch 64/100\n",
            "8/8 [==============================] - 0s 11ms/step - loss: 0.1590 - accuracy: 0.9405 - val_loss: 0.0731 - val_accuracy: 0.9722\n",
            "Epoch 65/100\n",
            "8/8 [==============================] - 0s 12ms/step - loss: 0.1205 - accuracy: 0.9583 - val_loss: 0.0725 - val_accuracy: 0.9722\n",
            "Epoch 66/100\n",
            "8/8 [==============================] - 0s 12ms/step - loss: 0.1557 - accuracy: 0.9365 - val_loss: 0.0628 - val_accuracy: 1.0000\n",
            "Epoch 67/100\n",
            "8/8 [==============================] - 0s 11ms/step - loss: 0.1317 - accuracy: 0.9504 - val_loss: 0.0927 - val_accuracy: 0.9444\n",
            "Epoch 68/100\n",
            "8/8 [==============================] - 0s 11ms/step - loss: 0.1556 - accuracy: 0.9365 - val_loss: 0.0609 - val_accuracy: 0.9722\n",
            "Epoch 69/100\n",
            "8/8 [==============================] - 0s 12ms/step - loss: 0.1229 - accuracy: 0.9603 - val_loss: 0.0595 - val_accuracy: 0.9722\n",
            "Epoch 70/100\n",
            "8/8 [==============================] - 0s 11ms/step - loss: 0.1030 - accuracy: 0.9683 - val_loss: 0.0600 - val_accuracy: 0.9722\n",
            "Epoch 71/100\n",
            "8/8 [==============================] - 0s 11ms/step - loss: 0.0796 - accuracy: 0.9702 - val_loss: 0.0315 - val_accuracy: 0.9861\n",
            "Epoch 72/100\n",
            "8/8 [==============================] - 0s 11ms/step - loss: 0.1477 - accuracy: 0.9544 - val_loss: 0.0675 - val_accuracy: 0.9861\n",
            "Epoch 73/100\n",
            "8/8 [==============================] - 0s 11ms/step - loss: 0.1340 - accuracy: 0.9524 - val_loss: 0.0304 - val_accuracy: 1.0000\n",
            "Epoch 74/100\n",
            "8/8 [==============================] - 0s 11ms/step - loss: 0.1027 - accuracy: 0.9603 - val_loss: 0.0469 - val_accuracy: 0.9861\n",
            "Epoch 75/100\n",
            "8/8 [==============================] - 0s 11ms/step - loss: 0.0577 - accuracy: 0.9782 - val_loss: 0.0445 - val_accuracy: 0.9861\n",
            "Epoch 76/100\n",
            "8/8 [==============================] - 0s 11ms/step - loss: 0.0799 - accuracy: 0.9702 - val_loss: 0.0236 - val_accuracy: 0.9861\n",
            "Epoch 77/100\n",
            "8/8 [==============================] - 0s 11ms/step - loss: 0.1010 - accuracy: 0.9603 - val_loss: 0.0133 - val_accuracy: 1.0000\n",
            "Epoch 78/100\n",
            "8/8 [==============================] - 0s 12ms/step - loss: 0.0679 - accuracy: 0.9683 - val_loss: 0.0390 - val_accuracy: 0.9861\n",
            "Epoch 79/100\n",
            "8/8 [==============================] - 0s 11ms/step - loss: 0.1164 - accuracy: 0.9563 - val_loss: 0.0799 - val_accuracy: 0.9722\n",
            "Epoch 80/100\n",
            "8/8 [==============================] - 0s 11ms/step - loss: 0.1007 - accuracy: 0.9663 - val_loss: 0.0274 - val_accuracy: 1.0000\n",
            "Epoch 81/100\n",
            "8/8 [==============================] - 0s 11ms/step - loss: 0.0631 - accuracy: 0.9782 - val_loss: 0.0523 - val_accuracy: 0.9722\n",
            "Epoch 82/100\n",
            "8/8 [==============================] - 0s 11ms/step - loss: 0.0804 - accuracy: 0.9683 - val_loss: 0.0089 - val_accuracy: 1.0000\n",
            "Epoch 83/100\n",
            "8/8 [==============================] - 0s 11ms/step - loss: 0.0820 - accuracy: 0.9782 - val_loss: 0.0267 - val_accuracy: 0.9861\n",
            "Epoch 84/100\n",
            "8/8 [==============================] - 0s 11ms/step - loss: 0.0870 - accuracy: 0.9802 - val_loss: 0.0213 - val_accuracy: 1.0000\n",
            "Epoch 85/100\n",
            "8/8 [==============================] - 0s 11ms/step - loss: 0.0783 - accuracy: 0.9722 - val_loss: 0.0574 - val_accuracy: 0.9722\n",
            "Epoch 86/100\n",
            "8/8 [==============================] - 0s 11ms/step - loss: 0.0634 - accuracy: 0.9702 - val_loss: 0.0307 - val_accuracy: 0.9861\n",
            "Epoch 87/100\n",
            "8/8 [==============================] - 0s 11ms/step - loss: 0.0501 - accuracy: 0.9841 - val_loss: 0.0514 - val_accuracy: 0.9861\n",
            "Epoch 88/100\n",
            "8/8 [==============================] - 0s 11ms/step - loss: 0.0521 - accuracy: 0.9861 - val_loss: 0.0082 - val_accuracy: 1.0000\n",
            "Epoch 89/100\n",
            "8/8 [==============================] - 0s 11ms/step - loss: 0.0581 - accuracy: 0.9861 - val_loss: 0.0073 - val_accuracy: 1.0000\n",
            "Epoch 90/100\n",
            "8/8 [==============================] - 0s 11ms/step - loss: 0.0323 - accuracy: 0.9821 - val_loss: 0.0167 - val_accuracy: 0.9861\n",
            "Epoch 91/100\n",
            "8/8 [==============================] - 0s 11ms/step - loss: 0.0656 - accuracy: 0.9802 - val_loss: 0.0319 - val_accuracy: 0.9861\n",
            "Epoch 92/100\n",
            "8/8 [==============================] - 0s 11ms/step - loss: 0.0409 - accuracy: 0.9861 - val_loss: 0.0049 - val_accuracy: 1.0000\n",
            "Epoch 93/100\n",
            "8/8 [==============================] - 0s 11ms/step - loss: 0.0597 - accuracy: 0.9742 - val_loss: 0.0154 - val_accuracy: 1.0000\n",
            "Epoch 94/100\n",
            "8/8 [==============================] - 0s 11ms/step - loss: 0.0463 - accuracy: 0.9821 - val_loss: 0.0254 - val_accuracy: 0.9861\n",
            "Epoch 95/100\n",
            "8/8 [==============================] - 0s 11ms/step - loss: 0.0326 - accuracy: 0.9881 - val_loss: 0.0390 - val_accuracy: 0.9861\n",
            "Epoch 96/100\n",
            "8/8 [==============================] - 0s 11ms/step - loss: 0.0272 - accuracy: 0.9901 - val_loss: 0.0532 - val_accuracy: 0.9861\n",
            "Epoch 97/100\n",
            "8/8 [==============================] - 0s 11ms/step - loss: 0.0421 - accuracy: 0.9821 - val_loss: 0.0049 - val_accuracy: 1.0000\n",
            "Epoch 98/100\n",
            "8/8 [==============================] - 0s 11ms/step - loss: 0.0522 - accuracy: 0.9802 - val_loss: 0.0153 - val_accuracy: 1.0000\n",
            "Epoch 99/100\n",
            "8/8 [==============================] - 0s 11ms/step - loss: 0.0351 - accuracy: 0.9841 - val_loss: 0.0152 - val_accuracy: 0.9861\n",
            "Epoch 100/100\n",
            "8/8 [==============================] - 0s 11ms/step - loss: 0.0349 - accuracy: 0.9901 - val_loss: 0.0073 - val_accuracy: 1.0000\n"
          ],
          "name": "stdout"
        },
        {
          "output_type": "execute_result",
          "data": {
            "text/plain": [
              "<tensorflow.python.keras.callbacks.History at 0x7f238005e6a0>"
            ]
          },
          "metadata": {
            "tags": []
          },
          "execution_count": 7
        }
      ]
    },
    {
      "cell_type": "code",
      "metadata": {
        "id": "QPKDFiKx7_S-",
        "colab": {
          "base_uri": "https://localhost:8080/"
        },
        "outputId": "de7d9fc9-2366-4cb0-fc49-ba5411afb40e"
      },
      "source": [
        "score = model.evaluate(X_test, y_test, verbose=0)\n",
        "print(\"Test loss:\", score[0])\n",
        "print(\"Test accuracy:\", score[1]*100,\"%\")"
      ],
      "execution_count": null,
      "outputs": [
        {
          "output_type": "stream",
          "text": [
            "Test loss: 0.04308682307600975\n",
            "Test accuracy: 98.61111044883728 %\n"
          ],
          "name": "stdout"
        }
      ]
    },
    {
      "cell_type": "code",
      "metadata": {
        "ExecuteTime": {
          "end_time": "2020-09-28T07:33:31.248373Z",
          "start_time": "2020-09-28T07:33:30.351890Z"
        },
        "id": "evICnF2AWh4V"
      },
      "source": [
        "predictions = model.predict(X_test)\n",
        "predictions = predictions.argmax( axis=1)\n",
        "#predictions"
      ],
      "execution_count": null,
      "outputs": []
    },
    {
      "cell_type": "code",
      "metadata": {
        "ExecuteTime": {
          "end_time": "2020-09-28T07:33:31.263644Z",
          "start_time": "2020-09-28T07:33:31.250369Z"
        },
        "id": "yUdn2RD2Wh4W"
      },
      "source": [
        "cm = confusion_matrix(y_test.argmax(axis=1), predictions)\n",
        "cm = cm/cm.sum(axis=1)[:, np.newaxis]\n",
        "l=np.unique(predictions)"
      ],
      "execution_count": null,
      "outputs": []
    },
    {
      "cell_type": "code",
      "metadata": {
        "ExecuteTime": {
          "end_time": "2020-09-28T07:33:31.751326Z",
          "start_time": "2020-09-28T07:33:31.265233Z"
        },
        "colab": {
          "base_uri": "https://localhost:8080/",
          "height": 627
        },
        "id": "7rgZ62bhWh4W",
        "outputId": "f04db246-1c21-4bc3-a877-924ac36969b9"
      },
      "source": [
        "fig, ax = plt.subplots(figsize=(10,10))  \n",
        "sns.heatmap(\n",
        "    cm, annot=True,\n",
        "    xticklabels=set(l),\n",
        "    yticklabels=set(l))\n",
        "plt.xlabel(\"Predicted\")\n",
        "plt.ylabel(\"True\")"
      ],
      "execution_count": null,
      "outputs": [
        {
          "output_type": "execute_result",
          "data": {
            "text/plain": [
              "Text(69.0, 0.5, 'True')"
            ]
          },
          "metadata": {
            "tags": []
          },
          "execution_count": 11
        },
        {
          "output_type": "display_data",
          "data": {
            "image/png": "[encoded data removed]",
            "text/plain": [
              "<Figure size 720x720 with 2 Axes>"
            ]
          },
          "metadata": {
            "tags": [],
            "needs_background": "light"
          }
        }
      ]
    },
    {
      "cell_type": "code",
      "metadata": {
        "id": "Lrhntlaru9RN"
      },
      "source": [
        "#10-fold cross-validation"
      ],
      "execution_count": null,
      "outputs": []
    },
    {
      "cell_type": "code",
      "metadata": {
        "id": "HT4KR-idGJ0h",
        "colab": {
          "base_uri": "https://localhost:8080/"
        },
        "outputId": "fe013ec9-bc21-4c98-abf7-f851932a4242"
      },
      "source": [
        "n_split=10\n",
        "a=0\n",
        "X=np.vstack((class1,class2,class3))\n",
        "f=0\n",
        "for train_index,test_index in KFold(n_split).split(X):\n",
        "  f+=1\n",
        "  x_train,x_test=X[train_index],X[test_index]\n",
        "  y_train,y_test=label[train_index],label[test_index]\n",
        "  y_train = keras.utils.to_categorical(y_train-1,num_classes=3)\n",
        "  y_test=keras.utils.to_categorical(y_test-1,num_classes=3)\n",
        "\n",
        "  batch_size = 128\n",
        "  epochs = 200\n",
        "  model=create_model()\n",
        "  opt = keras.optimizers.Adam(learning_rate=0.0001)\n",
        "  model.compile(loss=\"categorical_crossentropy\", optimizer=opt, metrics=[\"accuracy\"])\n",
        "\n",
        "  history=model.fit(x_train, y_train, batch_size=batch_size, epochs=epochs, validation_split=0.125,verbose=0)\n",
        "  print(\"\\n\")\n",
        "  print(\"Fold :\",f,\"\\n\")\n",
        "  print(\"Training Accuracy\",history.history['accuracy'][-1]*100,\"%\")\n",
        "  print(\"Validation Accuracy\",history.history['val_accuracy'][-1]*100,\"%\")\n",
        "  print('Test Accuracy ',model.evaluate(x_test,y_test,verbose=0)[1]*100,\"%\")\n",
        "  a+=model.evaluate(x_test,y_test,verbose=0)[1]*100\n",
        "print(\"\\n\")\n"
      ],
      "execution_count": null,
      "outputs": [
        {
          "output_type": "stream",
          "text": [
            "\n",
            "\n",
            "Fold : 1 \n",
            "\n",
            "Training Accuracy 99.29453134536743 %\n",
            "Validation Accuracy 88.88888955116272 %\n",
            "Test Accuracy  100.0 %\n",
            "\n",
            "\n",
            "Fold : 2 \n",
            "\n",
            "Training Accuracy 99.29453134536743 %\n",
            "Validation Accuracy 28.395062685012817 %\n",
            "Test Accuracy  100.0 %\n",
            "\n",
            "\n",
            "Fold : 3 \n",
            "\n",
            "Training Accuracy 100.0 %\n",
            "Validation Accuracy 53.08641791343689 %\n",
            "Test Accuracy  80.55555820465088 %\n",
            "\n",
            "\n",
            "Fold : 4 \n",
            "\n",
            "Training Accuracy 99.47090148925781 %\n",
            "Validation Accuracy 66.66666865348816 %\n",
            "Test Accuracy  95.83333134651184 %\n",
            "\n",
            "\n",
            "Fold : 5 \n",
            "\n",
            "Training Accuracy 98.23633432388306 %\n",
            "Validation Accuracy 59.25925970077515 %\n",
            "Test Accuracy  97.22222089767456 %\n",
            "\n",
            "\n",
            "Fold : 6 \n",
            "\n",
            "Training Accuracy 99.47090148925781 %\n",
            "Validation Accuracy 71.60493731498718 %\n",
            "Test Accuracy  95.83333134651184 %\n",
            "\n",
            "\n",
            "Fold : 7 \n",
            "\n",
            "Training Accuracy 98.94179701805115 %\n",
            "Validation Accuracy 81.4814805984497 %\n",
            "Test Accuracy  95.83333134651184 %\n",
            "\n",
            "\n",
            "Fold : 8 \n",
            "\n",
            "Training Accuracy 98.76543283462524 %\n",
            "Validation Accuracy 62.962961196899414 %\n",
            "Test Accuracy  48.61111044883728 %\n",
            "\n",
            "\n",
            "Fold : 9 \n",
            "\n",
            "Training Accuracy 99.29453134536743 %\n",
            "Validation Accuracy 67.90123581886292 %\n",
            "Test Accuracy  43.05555522441864 %\n",
            "\n",
            "\n",
            "Fold : 10 \n",
            "\n",
            "Training Accuracy 98.94179701805115 %\n",
            "Validation Accuracy 66.66666865348816 %\n",
            "Test Accuracy  79.16666865348816 %\n",
            "\n",
            "\n"
          ],
          "name": "stdout"
        }
      ]
    },
    {
      "cell_type": "code",
      "metadata": {
        "id": "X_IAjYHmvlVb"
      },
      "source": [
        ""
      ],
      "execution_count": null,
      "outputs": []
    },
    {
      "cell_type": "markdown",
      "metadata": {
        "id": "bOZ85KEo6C-n"
      },
      "source": [
        "## Q.11"
      ]
    },
    {
      "cell_type": "markdown",
      "metadata": {
        "id": "fs-jnJcLERUh"
      },
      "source": [
        "## Things Learnt :\n",
        "\n",
        "\n",
        "\n",
        "1. Non-linear perceptron algorithm\n",
        "2. Forward Propagation Back Propagation\n",
        "3. Multi-layer neural network\n",
        "4. Kernel perceptron algorithm\n",
        "5. Radial basis function neural network\n",
        "6. Stacked autoencoder\n",
        "7. ELM\n",
        "8. ELM-Autoencoder\n",
        "9. Binary and multiclass SVM\n",
        "10. Multi-channel 1D deep CNN architecture\n",
        "11. 2D deep CNN classifier\n",
        "12. Confusion Matrix"
      ]
    }
  ]
}